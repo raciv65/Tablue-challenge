{
 "cells": [
  {
   "cell_type": "code",
   "execution_count": 1,
   "id": "partial-spirituality",
   "metadata": {},
   "outputs": [],
   "source": [
    "import pandas as pd\n",
    "import requests"
   ]
  },
  {
   "cell_type": "code",
   "execution_count": 2,
   "id": "alternative-interest",
   "metadata": {},
   "outputs": [],
   "source": [
    "from bs4 import BeautifulSoup as bs\n",
    "from splinter import Browser\n"
   ]
  },
  {
   "cell_type": "code",
   "execution_count": 99,
   "id": "artistic-durham",
   "metadata": {},
   "outputs": [],
   "source": [
    "from urllib.request import urlopen\n",
    "from zipfile import ZipFile\n",
    "from io import BytesIO\n",
    "import json"
   ]
  },
  {
   "cell_type": "markdown",
   "id": "indoor-celebration",
   "metadata": {},
   "source": [
    "## Use of request to have end point of moth files"
   ]
  },
  {
   "cell_type": "code",
   "execution_count": 58,
   "id": "tropical-contamination",
   "metadata": {},
   "outputs": [],
   "source": [
    "r2=requests.get('https://s3.amazonaws.com/tripdata/')"
   ]
  },
  {
   "cell_type": "code",
   "execution_count": 59,
   "id": "typical-mailing",
   "metadata": {
    "scrolled": true
   },
   "outputs": [
    {
     "data": {
      "text/plain": [
       "<Response [200]>"
      ]
     },
     "execution_count": 59,
     "metadata": {},
     "output_type": "execute_result"
    }
   ],
   "source": [
    "r2"
   ]
  },
  {
   "cell_type": "code",
   "execution_count": 73,
   "id": "relative-rebate",
   "metadata": {},
   "outputs": [
    {
     "data": {
      "text/plain": [
       "<?xml version=\"1.0\" encoding=\"UTF-8\"?>\n",
       "<listbucketresult xmlns=\"http://s3.amazonaws.com/doc/2006-03-01/\"><name>tripdata</name><prefix></prefix><marker></marker><maxkeys>1000</maxkeys><istruncated>false</istruncated><contents><key>201306-citibike-tripdata.zip</key><lastmodified>2018-04-30T13:18:55.000Z</lastmodified><etag>\"b520a12de58eea58a3586f89bfcfbd9d-2\"</etag><size>16785103</size><storageclass>STANDARD</storageclass></contents><contents><key>201307-201402-citibike-tripdata.zip</key><lastmodified>2017-01-18T22:23:25.000Z</lastmodified><etag>\"7b3b260b2ab2e5349320121d04bd821c-22\"</etag><size>178262576</size><storageclass>STANDARD</storageclass></contents><contents><key>201307-citibike-tripdata.zip</key><lastmodified>2017-01-18T22:23:27.000Z</lastmodified><etag>\"dd3e6fd5f91715b31eae72868086c08c-4\"</etag><size>27074629</size><storageclass>STANDARD</storageclass></contents><contents><key>201308-citibike-tripdata.zip</key><lastmodified>2017-01-18T22:23:27.000Z</lastmodified><etag>\"2f661063576734f614b9f1d6bba0ec59-4\"</etag><size>32090869</size><storageclass>STANDARD</storageclass></contents><contents><key>201309-citibike-tripdata.zip</key><lastmodified>2017-01-18T22:23:27.000Z</lastmodified><etag>\"a42f947db7bd14e423a7dbfbb11596a1-4\"</etag><size>33155593</size><storageclass>STANDARD</storageclass></contents><contents><key>201310-citibike-tripdata.zip</key><lastmodified>2017-01-18T22:23:28.000Z</lastmodified><etag>\"ba688008fa403b0f2e45cfe6371ac941-4\"</etag><size>33065440</size><storageclass>STANDARD</storageclass></contents><contents><key>201311-citibike-tripdata.zip</key><lastmodified>2017-01-18T22:23:28.000Z</lastmodified><etag>\"e1e69bfad0580b095d4ebaa8367dbe55-3\"</etag><size>21618143</size><storageclass>STANDARD</storageclass></contents><contents><key>201312-citibike-tripdata.zip</key><lastmodified>2017-01-18T22:23:28.000Z</lastmodified><etag>\"534482d30a07443756b7581312f6c118-2\"</etag><size>14314784</size><storageclass>STANDARD</storageclass></contents><contents><key>201401-citibike-tripdata.zip</key><lastmodified>2017-01-18T22:23:29.000Z</lastmodified><etag>\"9374b1f510f67f63e118b15231a2fa1f-2\"</etag><size>9697309</size><storageclass>STANDARD</storageclass></contents><contents><key>201402-citibike-tripdata.zip</key><lastmodified>2017-01-18T22:23:29.000Z</lastmodified><etag>\"bfd6bff90e0b763e3232468d14cc8281\"</etag><size>7245963</size><storageclass>STANDARD</storageclass></contents><contents><key>201403-citibike-tripdata.zip</key><lastmodified>2017-01-18T22:23:29.000Z</lastmodified><etag>\"5d0d63fa680d3d3448a3733c7480d75f-2\"</etag><size>14132272</size><storageclass>STANDARD</storageclass></contents><contents><key>201404-citibike-tripdata.zip</key><lastmodified>2017-01-18T22:23:29.000Z</lastmodified><etag>\"781f3944db1967a377d0688c5ba9846a-3\"</etag><size>21414350</size><storageclass>STANDARD</storageclass></contents><contents><key>201405-citibike-tripdata.zip</key><lastmodified>2017-01-18T22:23:29.000Z</lastmodified><etag>\"e5201dec0b4e77a604a4576d361b22fb-4\"</etag><size>27591572</size><storageclass>STANDARD</storageclass></contents><contents><key>201406-citibike-tripdata.zip</key><lastmodified>2017-01-18T22:23:29.000Z</lastmodified><etag>\"fdfdee31d451fa457b241117aabff7e5-4\"</etag><size>29902186</size><storageclass>STANDARD</storageclass></contents><contents><key>201407-citibike-tripdata.zip</key><lastmodified>2017-01-18T22:23:30.000Z</lastmodified><etag>\"bf419e04dbf6f39cd4a9d10f8723dc92-4\"</etag><size>30893375</size><storageclass>STANDARD</storageclass></contents><contents><key>201408-citibike-tripdata.zip</key><lastmodified>2017-01-18T22:23:30.000Z</lastmodified><etag>\"08b8d0f36c0f6deedaef5555115fb166-4\"</etag><size>30625219</size><storageclass>STANDARD</storageclass></contents><contents><key>201409-citibike-tripdata.zip</key><lastmodified>2017-01-18T22:23:30.000Z</lastmodified><etag>\"134e1a7180da1b3ede44a31b93c8b88b-4\"</etag><size>30254719</size><storageclass>STANDARD</storageclass></contents><contents><key>201410-citibike-tripdata.zip</key><lastmodified>2017-01-18T22:23:30.000Z</lastmodified><etag>\"86f1717b8d57bb54d70cb9effb76847d-4\"</etag><size>26154448</size><storageclass>STANDARD</storageclass></contents><contents><key>201411-citibike-tripdata.zip</key><lastmodified>2017-01-18T22:23:31.000Z</lastmodified><etag>\"57a5ca4902bc6d9aa7eb9fa05c2012ac-3\"</etag><size>16825916</size><storageclass>STANDARD</storageclass></contents><contents><key>201412-citibike-tripdata.zip</key><lastmodified>2017-01-18T22:23:31.000Z</lastmodified><etag>\"03df0ec93b039f6d3ffeb7d6ca53912b-2\"</etag><size>12724321</size><storageclass>STANDARD</storageclass></contents><contents><key>201501-citibike-tripdata.zip</key><lastmodified>2017-01-18T22:23:31.000Z</lastmodified><etag>\"1eed6b2f2edbc910e250a9f643ec6cdd\"</etag><size>7009614</size><storageclass>STANDARD</storageclass></contents><contents><key>201502-citibike-tripdata.zip</key><lastmodified>2017-01-18T22:23:31.000Z</lastmodified><etag>\"52e8a74caf221b6880078b67b4416016\"</etag><size>4821145</size><storageclass>STANDARD</storageclass></contents><contents><key>201503-citibike-tripdata.zip</key><lastmodified>2017-01-18T22:23:31.000Z</lastmodified><etag>\"15c197a8174fcba3d2d0f7805530e1bf-2\"</etag><size>8418470</size><storageclass>STANDARD</storageclass></contents><contents><key>201504-citibike-tripdata.zip</key><lastmodified>2017-01-18T22:23:31.000Z</lastmodified><etag>\"b05f9f28f9fddb54797ee9ba747d8199-3\"</etag><size>20741670</size><storageclass>STANDARD</storageclass></contents><contents><key>201505-citibike-tripdata.zip</key><lastmodified>2017-01-18T22:23:32.000Z</lastmodified><etag>\"4c26fa7a783a091630e0b868d32877d6-4\"</etag><size>30344940</size><storageclass>STANDARD</storageclass></contents><contents><key>201506-citibike-tripdata.zip</key><lastmodified>2017-01-18T22:23:32.000Z</lastmodified><etag>\"da58a79cccdd1cde88040eb3b86813bb-3\"</etag><size>22888858</size><storageclass>STANDARD</storageclass></contents><contents><key>201507-citibike-tripdata.zip</key><lastmodified>2017-01-18T22:23:32.000Z</lastmodified><etag>\"43263c09d2cfb5f04814d3584b8ddf19-5\"</etag><size>34518665</size><storageclass>STANDARD</storageclass></contents><contents><key>201508-citibike-tripdata.zip</key><lastmodified>2017-01-18T22:23:33.000Z</lastmodified><etag>\"9f7c5f303b929aabcbb7d1a6b570730d-5\"</etag><size>38041594</size><storageclass>STANDARD</storageclass></contents><contents><key>201509-citibike-tripdata.zip</key><lastmodified>2017-01-18T22:23:33.000Z</lastmodified><etag>\"ddf49d81c04409ca97ffa6f94a820ee4-6\"</etag><size>43618303</size><storageclass>STANDARD</storageclass></contents><contents><key>201510-citibike-tripdata.zip</key><lastmodified>2017-01-18T22:23:34.000Z</lastmodified><etag>\"30f3bde775cdf2e4046db407b3a6ef7e-5\"</etag><size>41817833</size><storageclass>STANDARD</storageclass></contents><contents><key>201511-citibike-tripdata.zip</key><lastmodified>2017-01-18T22:23:34.000Z</lastmodified><etag>\"0ebee9695eeffbb380bbf3317c351723-5\"</etag><size>34354395</size><storageclass>STANDARD</storageclass></contents><contents><key>201512-citibike-tripdata.zip</key><lastmodified>2017-01-18T22:23:35.000Z</lastmodified><etag>\"c730c06cf892a9a03f5ea6ac795df245-3\"</etag><size>23145783</size><storageclass>STANDARD</storageclass></contents><contents><key>201601-citibike-tripdata.zip</key><lastmodified>2017-01-18T22:23:35.000Z</lastmodified><etag>\"5b358cae0d810c608f80d01ff78c924a-3\"</etag><size>17794115</size><storageclass>STANDARD</storageclass></contents><contents><key>201602-citibike-tripdata.zip</key><lastmodified>2017-01-18T22:23:35.000Z</lastmodified><etag>\"374964e8178459647434063a1795fd13-3\"</etag><size>19673400</size><storageclass>STANDARD</storageclass></contents><contents><key>201603-citibike-tripdata.zip</key><lastmodified>2017-01-18T22:23:36.000Z</lastmodified><etag>\"13fc1b0ff6e650f9df24884254b7427d-4\"</etag><size>26448564</size><storageclass>STANDARD</storageclass></contents><contents><key>201604-citibike-tripdata.zip</key><lastmodified>2017-01-18T22:23:36.000Z</lastmodified><etag>\"9c3455cc6ba242839a5718cac8b3bfa2-5\"</etag><size>35499519</size><storageclass>STANDARD</storageclass></contents><contents><key>201605-citibike-tripdata.zip</key><lastmodified>2017-01-18T22:23:36.000Z</lastmodified><etag>\"a67d8f63a4ef956714a686bf759040bd-6\"</etag><size>42455227</size><storageclass>STANDARD</storageclass></contents><contents><key>201606-citibike-tripdata.zip</key><lastmodified>2017-01-18T22:23:37.000Z</lastmodified><etag>\"31b14fa78c2591925b7b9d0d8d643f39-7\"</etag><size>51457520</size><storageclass>STANDARD</storageclass></contents><contents><key>201607-citibike-tripdata.zip</key><lastmodified>2017-01-18T22:23:38.000Z</lastmodified><etag>\"0d3af64944f9535abf396a96d5795147-6\"</etag><size>48814309</size><storageclass>STANDARD</storageclass></contents><contents><key>201608-citibike-tripdata.zip</key><lastmodified>2017-01-18T22:23:39.000Z</lastmodified><etag>\"dd0649256a52e2e4039cd494a52fff0f-7\"</etag><size>56054239</size><storageclass>STANDARD</storageclass></contents><contents><key>201609-citibike-tripdata.zip</key><lastmodified>2017-01-18T22:23:40.000Z</lastmodified><etag>\"4485c06095657f3ef7da0ff9302b5b19-8\"</etag><size>60817146</size><storageclass>STANDARD</storageclass></contents><contents><key>201610-citibike-tripdata.zip</key><lastmodified>2017-01-23T14:25:28.000Z</lastmodified><etag>\"a84bade59fd26ad49ef93af9ce2cd52a\"</etag><size>52917646</size><storageclass>STANDARD</storageclass></contents><contents><key>201611-citibike-tripdata.zip</key><lastmodified>2017-01-23T14:25:18.000Z</lastmodified><etag>\"880cfc30d95ba9525593375d38bf05a6\"</etag><size>40309396</size><storageclass>STANDARD</storageclass></contents><contents><key>201612-citibike-tripdata.zip</key><lastmodified>2017-01-23T14:25:24.000Z</lastmodified><etag>\"03e20a299cedb824da4ec06146b6bf03\"</etag><size>27546951</size><storageclass>STANDARD</storageclass></contents><contents><key>201701-citibike-tripdata.csv.zip</key><lastmodified>2017-04-06T21:01:05.000Z</lastmodified><etag>\"07f0bf735465bdcc98b88941695a5996-3\"</etag><size>24252143</size><storageclass>STANDARD</storageclass></contents><contents><key>201702-citibike-tripdata.csv.zip</key><lastmodified>2017-04-06T21:01:14.000Z</lastmodified><etag>\"ffe3cd2c33d82f96991eae69aef833a9-4\"</etag><size>26345821</size><storageclass>STANDARD</storageclass></contents><contents><key>201703-citibike-tripdata.csv.zip</key><lastmodified>2017-04-06T21:01:25.000Z</lastmodified><etag>\"212ccae72dff7fe43530c987e3d43050-3\"</etag><size>24167719</size><storageclass>STANDARD</storageclass></contents><contents><key>201704-citibike-tripdata.csv.zip</key><lastmodified>2017-08-01T16:16:58.000Z</lastmodified><etag>\"0c5a3de95ce45cc9d50fce5a6819dde1-6\"</etag><size>45080546</size><storageclass>STANDARD</storageclass></contents><contents><key>201705-citibike-tripdata.csv.zip</key><lastmodified>2017-08-01T16:17:14.000Z</lastmodified><etag>\"c8da677e23e7fd94fe4fdc8b79728a45-7\"</etag><size>52672403</size><storageclass>STANDARD</storageclass></contents><contents><key>201706-citibike-tripdata.csv.zip</key><lastmodified>2017-08-01T16:17:25.000Z</lastmodified><etag>\"50b163a2a764b416dc2ffbfe2a09607d-8\"</etag><size>60394834</size><storageclass>STANDARD</storageclass></contents><contents><key>201707-citibike-tripdata.csv.zip</key><lastmodified>2017-08-01T16:17:42.000Z</lastmodified><etag>\"74ffbf191c811d5805f0675d78375878-8\"</etag><size>60552358</size><storageclass>STANDARD</storageclass></contents><contents><key>201708-citibike-tripdata.csv.zip</key><lastmodified>2017-10-03T15:52:50.000Z</lastmodified><etag>\"a56eaefeea62ac85ef30485731e03161-4\"</etag><size>63277904</size><storageclass>STANDARD</storageclass></contents><contents><key>201709-citibike-tripdata.csv.zip</key><lastmodified>2017-10-03T15:52:58.000Z</lastmodified><etag>\"6e453ea73b4e068d9e50652a9ce80110-4\"</etag><size>65875226</size><storageclass>STANDARD</storageclass></contents><contents><key>201710-citibike-tripdata.csv.zip</key><lastmodified>2018-01-31T21:14:57.000Z</lastmodified><etag>\"7d399222cc1e0fc7eed2152cef0c70be-5\"</etag><size>67606081</size><storageclass>STANDARD</storageclass></contents><contents><key>201711-citibike-tripdata.csv.zip</key><lastmodified>2018-01-31T21:15:07.000Z</lastmodified><etag>\"4df818143c4e832c8067375cc2d5f346-3\"</etag><size>47767828</size><storageclass>STANDARD</storageclass></contents><contents><key>201712-citibike-tripdata.csv.zip</key><lastmodified>2018-01-31T21:15:13.000Z</lastmodified><etag>\"9be1866c1dd6dd0f88e7181964cea52d-2\"</etag><size>32096921</size><storageclass>STANDARD</storageclass></contents><contents><key>201801-citibike-tripdata.csv.zip</key><lastmodified>2018-09-06T18:44:00.000Z</lastmodified><etag>\"e82b7438b7057052afff71b3941e98b8-2\"</etag><size>23243282</size><storageclass>STANDARD</storageclass></contents><contents><key>201802-citibike-tripdata.csv.zip</key><lastmodified>2018-09-06T18:44:02.000Z</lastmodified><etag>\"e9b3c1de5effe60539a11e31438d5760-2\"</etag><size>27445342</size><storageclass>STANDARD</storageclass></contents><contents><key>201803-citibike-tripdata.csv.zip</key><lastmodified>2018-09-06T18:44:06.000Z</lastmodified><etag>\"58e1a32bf1c7da71d323871451464751-2\"</etag><size>31772071</size><storageclass>STANDARD</storageclass></contents><contents><key>201804-citibike-tripdata.csv.zip</key><lastmodified>2018-09-06T18:44:09.000Z</lastmodified><etag>\"4d2f0b19de8e06a35cb836e1549f94fd-3\"</etag><size>42777120</size><storageclass>STANDARD</storageclass></contents><contents><key>201805-citibike-tripdata.csv.zip</key><lastmodified>2018-09-06T18:44:14.000Z</lastmodified><etag>\"9fb1051c486c1ab71f8456bf06dee1e6-4\"</etag><size>60398070</size><storageclass>STANDARD</storageclass></contents><contents><key>201806-citibike-tripdata.csv.zip</key><lastmodified>2018-09-06T18:44:22.000Z</lastmodified><etag>\"c1e29d3ceec436f6022258ec148e0868-4\"</etag><size>64676423</size><storageclass>STANDARD</storageclass></contents><contents><key>201807-citibike-tripdata.csv.zip</key><lastmodified>2018-09-06T18:44:30.000Z</lastmodified><etag>\"e20638783252b55c824a6fd107e9e4a3-4\"</etag><size>63141848</size><storageclass>STANDARD</storageclass></contents><contents><key>201808-citibike-tripdata.csv.zip</key><lastmodified>2018-09-12T18:57:00.000Z</lastmodified><etag>\"75f3f724354d80bbc1df56a7b7027615-6\"</etag><size>84330202</size><storageclass>STANDARD</storageclass></contents><contents><key>201809-citibike-tripdata.csv.zip</key><lastmodified>2018-10-03T18:48:03.000Z</lastmodified><etag>\"33d763b77abaca376ec864cf72fd85b0-5\"</etag><size>80091394</size><storageclass>STANDARD</storageclass></contents><contents><key>201810-citibike-tripdata.csv.zip</key><lastmodified>2018-11-07T19:43:33.000Z</lastmodified><etag>\"6a47664959f92a7dc5c2fd3f3eeea032-5\"</etag><size>79982702</size><storageclass>STANDARD</storageclass></contents><contents><key>201811-citibike-tripdata.csv.zip</key><lastmodified>2018-12-04T16:27:25.000Z</lastmodified><etag>\"2ed5f0212ce2a21b2e85efcce8fc8dd6-7\"</etag><size>53731674</size><storageclass>STANDARD</storageclass></contents><contents><key>201812-citibike-tripdata.csv.zip</key><lastmodified>2019-01-08T20:51:08.000Z</lastmodified><etag>\"39ca7a69e73e64036301db8ea801059e-6\"</etag><size>43605212</size><storageclass>STANDARD</storageclass></contents><contents><key>201901-citibike-tripdata.csv.zip</key><lastmodified>2019-02-11T14:43:30.000Z</lastmodified><etag>\"2834834164e0f52c3841cc1b0f81ada9-5\"</etag><size>41467182</size><storageclass>STANDARD</storageclass></contents><contents><key>201902-citibike-tripdata.csv.zip</key><lastmodified>2019-03-04T16:21:38.000Z</lastmodified><etag>\"de3b0cc72158b1eb0048445dd3344c88-5\"</etag><size>40466165</size><storageclass>STANDARD</storageclass></contents><contents><key>201903-citibike-tripdata.csv.zip</key><lastmodified>2019-04-15T18:34:41.000Z</lastmodified><etag>\"8506f8fdb6db709de9fa5923f47ddd72-7\"</etag><size>57199131</size><storageclass>STANDARD</storageclass></contents><contents><key>201904-citibike-tripdata.csv.zip</key><lastmodified>2019-05-06T19:07:32.000Z</lastmodified><etag>\"58de1a81266f0635cc60bfcfd6506feb-9\"</etag><size>75703003</size><storageclass>STANDARD</storageclass></contents><contents><key>201905-citibike-tripdata.csv.zip</key><lastmodified>2019-06-11T19:37:54.000Z</lastmodified><etag>\"0552361e26e8fa6cb34780bb6b517588-10\"</etag><size>82176801</size><storageclass>STANDARD</storageclass></contents><contents><key>201906-citibike-tripdata.csv.zip</key><lastmodified>2019-07-15T17:42:08.000Z</lastmodified><etag>\"4b9c70d4a34e075fe6f6e30b1f5c6827-6\"</etag><size>91078031</size><storageclass>STANDARD</storageclass></contents><contents><key>201907-citibike-tripdata.csv.zip</key><lastmodified>2019-08-05T21:34:01.000Z</lastmodified><etag>\"9eaf6d25e73508815c08bd0d09661385-6\"</etag><size>93359147</size><storageclass>STANDARD</storageclass></contents><contents><key>201908-citibike-tripdata.csv.zip</key><lastmodified>2019-09-18T20:33:14.000Z</lastmodified><etag>\"6c63755f110671e477130c86c81c4f8f-6\"</etag><size>100021943</size><storageclass>STANDARD</storageclass></contents><contents><key>201909-citibike-tripdata.csv.zip</key><lastmodified>2019-10-11T19:42:04.000Z</lastmodified><etag>\"6a359e103229b5fc639df4288333955e-7\"</etag><size>104185546</size><storageclass>STANDARD</storageclass></contents><contents><key>201910-citibike-tripdata.csv.zip</key><lastmodified>2019-11-05T22:10:55.000Z</lastmodified><etag>\"4a7316be1333adc40d6e2f4d62c9398b-6\"</etag><size>89195648</size><storageclass>STANDARD</storageclass></contents><contents><key>201911-citibike-tripdata.csv.zip</key><lastmodified>2019-12-20T18:44:54.000Z</lastmodified><etag>\"cf2ceba8040d51832f25c701165af044-4\"</etag><size>63195929</size><storageclass>STANDARD</storageclass></contents><contents><key>201912-citibike-tripdata.csv.zip</key><lastmodified>2020-01-21T21:23:32.000Z</lastmodified><etag>\"706907c268fcf83a0779b3de1fe5536a-3\"</etag><size>41083888</size><storageclass>STANDARD</storageclass></contents><contents><key>202001-citibike-tripdata.csv.zip</key><lastmodified>2020-02-04T19:05:46.000Z</lastmodified><etag>\"18e2f76d448079849c7461b7145597ee-4\"</etag><size>53473358</size><storageclass>STANDARD</storageclass></contents><contents><key>202002-citibike-tripdata.csv.zip</key><lastmodified>2020-03-24T20:07:44.000Z</lastmodified><etag>\"292e9bf75561d1936a8ddedebabd0907-3\"</etag><size>49514434</size><storageclass>STANDARD</storageclass></contents><contents><key>202003-citibike-tripdata.csv.zip</key><lastmodified>2020-04-17T23:58:01.000Z</lastmodified><etag>\"0ea9dc0fb3226200da261ca43b8687d5-3\"</etag><size>46657798</size><storageclass>STANDARD</storageclass></contents><contents><key>202004-citibike-tripdata.csv.zip</key><lastmodified>2020-05-27T00:18:14.000Z</lastmodified><etag>\"965c659721b49ed4559a28b79b51d1a9-2\"</etag><size>30120835</size><storageclass>STANDARD</storageclass></contents><contents><key>202005-citibike-tripdata.csv.zip</key><lastmodified>2020-06-05T16:09:37.000Z</lastmodified><etag>\"650abda0a8e62b265bc960a7daf19410-4\"</etag><size>65378700</size><storageclass>STANDARD</storageclass></contents><contents><key>202006-citibike-tripdata.csv.zip</key><lastmodified>2020-07-06T00:37:43.000Z</lastmodified><etag>\"a2750991bca1b0bd6aa3ecc185ecfefe-5\"</etag><size>83399305</size><storageclass>STANDARD</storageclass></contents><contents><key>202007-citibike-tripdata.csv.zip</key><lastmodified>2020-08-12T02:13:25.000Z</lastmodified><etag>\"e20dea3a394088fed3b9ba33d30dc756-6\"</etag><size>94091098</size><storageclass>STANDARD</storageclass></contents><contents><key>202008-citibike-tripdata.csv.zip</key><lastmodified>2020-09-04T19:37:28.000Z</lastmodified><etag>\"b95ad35f4aba6e7aff2f15e7a06c65f3-7\"</etag><size>104256804</size><storageclass>STANDARD</storageclass></contents><contents><key>202009-citibike-tripdata.csv.zip</key><lastmodified>2020-10-13T19:55:55.000Z</lastmodified><etag>\"8eb9cb0b22b688d689cb2d0df1a513de-7\"</etag><size>111931985</size><storageclass>STANDARD</storageclass></contents><contents><key>202010-citibike-tripdata.csv.zip</key><lastmodified>2020-11-04T14:51:10.000Z</lastmodified><etag>\"1984649779c289f31e90a9cac42aab5d-6\"</etag><size>101843579</size><storageclass>STANDARD</storageclass></contents><contents><key>202011-citibike-tripdata.csv.zip</key><lastmodified>2020-12-04T23:26:03.000Z</lastmodified><etag>\"e232da26873706f68ab66de8cea01f18-5\"</etag><size>78691946</size><storageclass>STANDARD</storageclass></contents><contents><key>202012-citibike-tripdata.csv.zip</key><lastmodified>2021-01-05T14:25:44.000Z</lastmodified><etag>\"05a785d765fd866f4962c57cd01b74d0-3\"</etag><size>49547377</size><storageclass>STANDARD</storageclass></contents><contents><key>202101-citibike-tripdata.csv.zip</key><lastmodified>2021-02-08T15:11:26.000Z</lastmodified><etag>\"d14e4c41cfb30847f3c86b01aa6096a2-3\"</etag><size>50120830</size><storageclass>STANDARD</storageclass></contents><contents><key>JC-201509-citibike-tripdata.csv.zip</key><lastmodified>2017-04-06T21:01:34.000Z</lastmodified><etag>\"857f36b80cde633c2dab5d8f7485b4f1\"</etag><size>127657</size><storageclass>STANDARD</storageclass></contents><contents><key>JC-201510-citibike-tripdata.csv.zip</key><lastmodified>2017-04-06T21:01:35.000Z</lastmodified><etag>\"f0f80e2462bcb30aed2c3d13203b2047\"</etag><size>366062</size><storageclass>STANDARD</storageclass></contents><contents><key>JC-201511-citibike-tripdata.csv.zip</key><lastmodified>2017-04-06T21:01:37.000Z</lastmodified><etag>\"35dc13c5825bec76abc928cc669329ad\"</etag><size>288054</size><storageclass>STANDARD</storageclass></contents><contents><key>JC-201512-citibike-tripdata.csv.zip</key><lastmodified>2017-04-06T21:01:38.000Z</lastmodified><etag>\"6ceb3e880db303d525877cc2abff5b75\"</etag><size>227741</size><storageclass>STANDARD</storageclass></contents><contents><key>JC-201601-citibike-tripdata.csv.zip</key><lastmodified>2017-04-06T21:01:38.000Z</lastmodified><etag>\"4d1b862592ddbc8c73af1166d24df971\"</etag><size>144314</size><storageclass>STANDARD</storageclass></contents><contents><key>JC-201602-citibike-tripdata.csv.zip</key><lastmodified>2017-04-06T21:01:38.000Z</lastmodified><etag>\"f348433da2c7ecb9c3728230efb9bbb7\"</etag><size>159787</size><storageclass>STANDARD</storageclass></contents><contents><key>JC-201603-citibike-tripdata.csv.zip</key><lastmodified>2017-04-06T21:01:39.000Z</lastmodified><etag>\"2c7aad6a59d31fa56951b80417131748\"</etag><size>259577</size><storageclass>STANDARD</storageclass></contents><contents><key>JC-201604-citibike-tripdata.csv.zip</key><lastmodified>2017-04-06T21:01:39.000Z</lastmodified><etag>\"f158870fad2a154690394553d20037ec\"</etag><size>311199</size><storageclass>STANDARD</storageclass></contents><contents><key>JC-201605-citibike-tripdata.csv.zip</key><lastmodified>2017-04-06T21:01:40.000Z</lastmodified><etag>\"8dec52dc3ba61b9d19861ede6a9e81cb\"</etag><size>369535</size><storageclass>STANDARD</storageclass></contents><contents><key>JC-201606-citibike-tripdata.csv.zip</key><lastmodified>2017-04-06T21:01:40.000Z</lastmodified><etag>\"46fcef1816baefcf001d8becf0d845e7\"</etag><size>452907</size><storageclass>STANDARD</storageclass></contents><contents><key>JC-201607-citibike-tripdata.csv.zip</key><lastmodified>2017-04-06T21:01:41.000Z</lastmodified><etag>\"f9916a0482e1e9fec479f002b7ff6629\"</etag><size>465773</size><storageclass>STANDARD</storageclass></contents><contents><key>JC-201608-citibike-tripdata.csv.zip</key><lastmodified>2017-04-06T21:01:41.000Z</lastmodified><etag>\"8d39f010fd0442c60ea96eb684701b7a\"</etag><size>666337</size><storageclass>STANDARD</storageclass></contents><contents><key>JC-201609-citibike-tripdata.csv.zip</key><lastmodified>2017-04-06T21:01:42.000Z</lastmodified><etag>\"5b09bea854ab2d6bcedf86e38385a76e\"</etag><size>652630</size><storageclass>STANDARD</storageclass></contents><contents><key>JC-201610-citibike-tripdata.csv.zip</key><lastmodified>2017-04-06T21:01:42.000Z</lastmodified><etag>\"9f85aa7b937d472fbce0548183bdc120\"</etag><size>581361</size><storageclass>STANDARD</storageclass></contents><contents><key>JC-201611-citibike-tripdata.csv.zip</key><lastmodified>2017-04-06T21:01:43.000Z</lastmodified><etag>\"a57d34785c989b88c3de53a9b173541d\"</etag><size>434377</size><storageclass>STANDARD</storageclass></contents><contents><key>JC-201612-citibike-tripdata.csv.zip</key><lastmodified>2017-04-06T21:01:43.000Z</lastmodified><etag>\"5e5420dbbde9bff736c43e755a9a0fc4\"</etag><size>304997</size><storageclass>STANDARD</storageclass></contents><contents><key>JC-201701-citibike-tripdata.csv.zip</key><lastmodified>2017-04-06T21:01:43.000Z</lastmodified><etag>\"154e45cac095ee5e2a6b2ca78c335a99\"</etag><size>260769</size><storageclass>STANDARD</storageclass></contents><contents><key>JC-201702-citibike-tripdata.csv.zip</key><lastmodified>2017-04-06T21:01:44.000Z</lastmodified><etag>\"4d63b31d2d92a5c6b60bc5d79cadb6f6\"</etag><size>281945</size><storageclass>STANDARD</storageclass></contents><contents><key>JC-201703-citibike-tripdata.csv.zip</key><lastmodified>2017-04-06T21:01:44.000Z</lastmodified><etag>\"eb9b695532fa446fc70a5c5c35a122a8\"</etag><size>246627</size><storageclass>STANDARD</storageclass></contents><contents><key>JC-201704-citibike-tripdata.csv.zip</key><lastmodified>2017-08-01T16:20:54.000Z</lastmodified><etag>\"6a08beb15c4cec87becf5f7bf381c216\"</etag><size>442528</size><storageclass>STANDARD</storageclass></contents><contents><key>JC-201705-citibike-tripdata.csv.zip</key><lastmodified>2017-08-01T16:20:55.000Z</lastmodified><etag>\"d6ab53a4475364a23413a07901888bcb\"</etag><size>541466</size><storageclass>STANDARD</storageclass></contents><contents><key>JC-201706-citibike-tripdata.csv.zip</key><lastmodified>2017-08-01T16:20:56.000Z</lastmodified><etag>\"47126b22da448fe4a54315763dfe53cb\"</etag><size>662240</size><storageclass>STANDARD</storageclass></contents><contents><key>JC-201707-citibike-tripdata.csv.zip</key><lastmodified>2017-08-01T16:20:57.000Z</lastmodified><etag>\"2ed44308399d4f88dc03875880e46dd8\"</etag><size>692715</size><storageclass>STANDARD</storageclass></contents><contents><key>JC-201708 citibike-tripdata.csv.zip</key><lastmodified>2017-10-03T15:52:49.000Z</lastmodified><etag>\"01266afee17f7f69cb2ff83bccd83bda\"</etag><size>727994</size><storageclass>STANDARD</storageclass></contents><contents><key>JC-201709-citibike-tripdata.csv.zip</key><lastmodified>2017-10-03T15:52:49.000Z</lastmodified><etag>\"e79ddb4fcc2d9eb50b9b2d26ab8905b4\"</etag><size>683286</size><storageclass>STANDARD</storageclass></contents><contents><key>JC-201710-citibike-tripdata.csv.zip</key><lastmodified>2018-01-31T21:15:18.000Z</lastmodified><etag>\"a307814b20dd3382473e4a7b1658e308\"</etag><size>720077</size><storageclass>STANDARD</storageclass></contents><contents><key>JC-201711-citibike-tripdata.csv.zip</key><lastmodified>2018-01-31T21:15:19.000Z</lastmodified><etag>\"f89c3a52e4572339c4a57c361bebd5e5\"</etag><size>488743</size><storageclass>STANDARD</storageclass></contents><contents><key>JC-201712-citibike-tripdata.csv.zip</key><lastmodified>2018-01-31T21:15:19.000Z</lastmodified><etag>\"31c75e2eaf297f5c2ec907da6eca4b72\"</etag><size>331501</size><storageclass>STANDARD</storageclass></contents><contents><key>JC-201801-citibike-tripdata.csv.zip</key><lastmodified>2018-09-06T18:44:38.000Z</lastmodified><etag>\"fdc9be581c57ffd3735b6b2a73a95716\"</etag><size>335740</size><storageclass>STANDARD</storageclass></contents><contents><key>JC-201802-citibike-tripdata.csv.zip</key><lastmodified>2018-09-06T18:44:38.000Z</lastmodified><etag>\"c6c4d02299ebe35450b55ba6a20d0042\"</etag><size>397953</size><storageclass>STANDARD</storageclass></contents><contents><key>JC-201803-citibike-tripdata.csv.zip</key><lastmodified>2018-09-06T18:44:39.000Z</lastmodified><etag>\"92ce13052e8d0c883c9744bfdfd0830f\"</etag><size>453590</size><storageclass>STANDARD</storageclass></contents><contents><key>JC-201804-citibike-tripdata.csv.zip</key><lastmodified>2018-09-06T18:44:39.000Z</lastmodified><etag>\"cd39b12d96bb903e7f0ac7448bab4370\"</etag><size>628954</size><storageclass>STANDARD</storageclass></contents><contents><key>JC-201805-citibike-tripdata.csv.zip</key><lastmodified>2018-09-06T18:44:40.000Z</lastmodified><etag>\"f0efb047f0789d35fa8d236798b887e9\"</etag><size>909305</size><storageclass>STANDARD</storageclass></contents><contents><key>JC-201806-citibike-tripdata.csv.zip</key><lastmodified>2018-09-06T18:44:40.000Z</lastmodified><etag>\"4d26be7f21f47065b3a97036ecb458f0\"</etag><size>1078776</size><storageclass>STANDARD</storageclass></contents><contents><key>JC-201807-citibike-tripdata.csv.zip</key><lastmodified>2018-09-06T18:44:41.000Z</lastmodified><etag>\"7d7f4d25a93a7fce663966d8fedb2332\"</etag><size>1114006</size><storageclass>STANDARD</storageclass></contents><contents><key>JC-201808-citibike-tripdata.csv.zip</key><lastmodified>2018-09-12T18:58:07.000Z</lastmodified><etag>\"324eecfa22ddf286719a3df242b89034\"</etag><size>1165898</size><storageclass>STANDARD</storageclass></contents><contents><key>JC-201809-citibike-tripdata.csv.zip</key><lastmodified>2018-10-03T18:48:13.000Z</lastmodified><etag>\"ed0ddf8ec6aa8bd2d569dc2c148e6517\"</etag><size>1029196</size><storageclass>STANDARD</storageclass></contents><contents><key>JC-201810-citibike-tripdata.csv.zip</key><lastmodified>2018-11-07T19:44:39.000Z</lastmodified><etag>\"eb9856ac4bf76b98f29710982384d482\"</etag><size>1025727</size><storageclass>STANDARD</storageclass></contents><contents><key>JC-201811-citibike-tripdata.csv.zip</key><lastmodified>2018-12-04T16:27:38.000Z</lastmodified><etag>\"0ade6c97e94ea6cfdcfad6af03392dc0\"</etag><size>655752</size><storageclass>STANDARD</storageclass></contents><contents><key>JC-201812-citibike-tripdata.csv.zip</key><lastmodified>2019-01-08T20:51:15.000Z</lastmodified><etag>\"3d4fbbfb80eaf845ced4384de8712765\"</etag><size>533878</size><storageclass>STANDARD</storageclass></contents><contents><key>JC-201901-citibike-tripdata.csv.zip</key><lastmodified>2019-02-11T14:43:41.000Z</lastmodified><etag>\"47cca6aac88569850708f5e34edd1c14\"</etag><size>517665</size><storageclass>STANDARD</storageclass></contents><contents><key>JC-201902-citibike-tripdata.csv.zip</key><lastmodified>2019-03-04T16:21:48.000Z</lastmodified><etag>\"3847a7474d6d6ec49d79cd056c6208f8\"</etag><size>491166</size><storageclass>STANDARD</storageclass></contents><contents><key>JC-201903-citibike-tripdata.csv.zip</key><lastmodified>2019-04-15T18:34:52.000Z</lastmodified><etag>\"02ddb9c67cbbc383c99d33e02398f956\"</etag><size>623509</size><storageclass>STANDARD</storageclass></contents><contents><key>JC-201904-citibike-tripdata.csv.zip</key><lastmodified>2019-05-06T19:07:33.000Z</lastmodified><etag>\"c6a586a126bcac25d37b8c44bdf0900d\"</etag><size>867370</size><storageclass>STANDARD</storageclass></contents><contents><key>JC-201905-citibike-tripdata.csv.zip</key><lastmodified>2019-06-11T19:37:55.000Z</lastmodified><etag>\"b2f4e51cf2f5d7447c937d7bedcabe24\"</etag><size>931693</size><storageclass>STANDARD</storageclass></contents><contents><key>JC-201906-citibike-tripdata.csv.zip</key><lastmodified>2019-07-15T17:42:09.000Z</lastmodified><etag>\"0d353eb29eedd5eee1cdc0bb840f7284\"</etag><size>1018935</size><storageclass>STANDARD</storageclass></contents><contents><key>JC-201907-citibike-tripdata.csv.zip</key><lastmodified>2019-08-05T21:34:01.000Z</lastmodified><etag>\"f7c47b623c12a7cc4ca5b88a9d228f5a\"</etag><size>1131502</size><storageclass>STANDARD</storageclass></contents><contents><key>JC-201908-citibike-tripdata.csv.zip</key><lastmodified>2019-09-18T20:33:15.000Z</lastmodified><etag>\"0178fa80feb8249070433a47723490f3\"</etag><size>1258122</size><storageclass>STANDARD</storageclass></contents><contents><key>JC-201909-citibike-tripdata.csv.zip</key><lastmodified>2019-10-11T19:42:04.000Z</lastmodified><etag>\"6a2951303488759d3cb9c9c9b69a43ac\"</etag><size>1271064</size><storageclass>STANDARD</storageclass></contents><contents><key>JC-201910-citibike-tripdata.csv.zip</key><lastmodified>2019-11-05T22:10:56.000Z</lastmodified><etag>\"2c82b76904c2a1e07ec0cb1457097753\"</etag><size>1091154</size><storageclass>STANDARD</storageclass></contents><contents><key>JC-201911-citibike-tripdata.csv.zip</key><lastmodified>2019-12-20T18:44:56.000Z</lastmodified><etag>\"cd216a574db2d2d145147a89a8c6235d\"</etag><size>799781</size><storageclass>STANDARD</storageclass></contents><contents><key>JC-201912-citibike-tripdata.csv.zip</key><lastmodified>2020-01-21T21:23:33.000Z</lastmodified><etag>\"4dc7a63c0eac3f12210de53a6a30ea79\"</etag><size>517583</size><storageclass>STANDARD</storageclass></contents><contents><key>JC-202001-citibike-tripdata.csv.zip</key><lastmodified>2020-02-04T19:05:47.000Z</lastmodified><etag>\"4a58b007c81a1843a03e0b18a63d3f42\"</etag><size>679086</size><storageclass>STANDARD</storageclass></contents><contents><key>JC-202002-citibike-tripdata.csv.zip</key><lastmodified>2020-03-24T20:07:53.000Z</lastmodified><etag>\"8ef84102acf2b355f7457c1aa374b7cf\"</etag><size>599276</size><storageclass>STANDARD</storageclass></contents><contents><key>JC-202003-citibike-tripdata.csv.zip</key><lastmodified>2020-04-17T23:58:04.000Z</lastmodified><etag>\"f93a1b4734de9a6e5e422ce8b2fe7419\"</etag><size>465329</size><storageclass>STANDARD</storageclass></contents><contents><key>JC-202004-citibike-tripdata.csv.zip</key><lastmodified>2020-05-27T00:18:16.000Z</lastmodified><etag>\"e12fe9d5ba889aa2d891347f80e62be3\"</etag><size>246177</size><storageclass>STANDARD</storageclass></contents><contents><key>JC-202005-citibike-tripdata.csv.zip</key><lastmodified>2020-06-05T16:09:40.000Z</lastmodified><etag>\"a8a53f2ae57b29a9fe287a7e666a8c74\"</etag><size>655725</size><storageclass>STANDARD</storageclass></contents><contents><key>JC-202006-citibike-tripdata.csv.zip</key><lastmodified>2020-07-06T00:37:53.000Z</lastmodified><etag>\"ebaaa7c1eb9467d04a7748feb6fc4f5b\"</etag><size>968484</size><storageclass>STANDARD</storageclass></contents><contents><key>JC-202007-citibike-tripdata.csv.zip</key><lastmodified>2020-08-12T02:13:32.000Z</lastmodified><etag>\"4519a964d5b66156f9e661b7e78906ac\"</etag><size>1017946</size><storageclass>STANDARD</storageclass></contents><contents><key>JC-202008-citibike-tripdata.csv.zip</key><lastmodified>2020-09-04T19:37:33.000Z</lastmodified><etag>\"bc110ea6ded190e5625213e05dce31fb\"</etag><size>1137151</size><storageclass>STANDARD</storageclass></contents><contents><key>JC-202009-citibike-tripdata.csv.zip</key><lastmodified>2020-10-13T19:56:03.000Z</lastmodified><etag>\"f818f87d1b8357d8755b610ea231aeef\"</etag><size>1419708</size><storageclass>STANDARD</storageclass></contents><contents><key>JC-202010-citibike-tripdata.csv.zip</key><lastmodified>2020-11-04T14:51:11.000Z</lastmodified><etag>\"148431d3598f7e962338c33da2afddf3\"</etag><size>798066</size><storageclass>STANDARD</storageclass></contents><contents><key>JC-202011-citibike-tripdata.csv.zip</key><lastmodified>2020-12-04T23:26:04.000Z</lastmodified><etag>\"ab9ee4bbbc03633d610e18319d23fc21\"</etag><size>569245</size><storageclass>STANDARD</storageclass></contents><contents><key>JC-202012-citibike-tripdata.csv.zip</key><lastmodified>2021-01-05T14:25:45.000Z</lastmodified><etag>\"112033c48cf3fa673b396364a7cc08f6\"</etag><size>315012</size><storageclass>STANDARD</storageclass></contents><contents><key>JC-202101-citibike-tripdata.csv.zip</key><lastmodified>2021-02-08T15:11:26.000Z</lastmodified><etag>\"02e5da50db92added528f438587bb1e7\"</etag><size>313806</size><storageclass>STANDARD</storageclass></contents><contents><key>index.html</key><lastmodified>2017-01-18T22:23:41.000Z</lastmodified><etag>\"0a0a71d28229db9a3ddd27b9c9ca1f10\"</etag><size>6430</size><storageclass>STANDARD</storageclass></contents></listbucketresult>"
      ]
     },
     "execution_count": 73,
     "metadata": {},
     "output_type": "execute_result"
    }
   ],
   "source": [
    "html2 = r2.content\n",
    "soup2=bs(html2, 'html.parser')\n",
    "soup2"
   ]
  },
  {
   "cell_type": "code",
   "execution_count": 62,
   "id": "deadly-tennis",
   "metadata": {
    "scrolled": true
   },
   "outputs": [
    {
     "data": {
      "text/plain": [
       "b'<?xml version=\"1.0\" encoding=\"UTF-8\"?>\\n<ListBucketResult xmlns=\"http://s3.amazonaws.com/doc/2006-03-01/\"><Name>tripdata</Name><Prefix></Prefix><Marker></Marker><MaxKeys>1000</MaxKeys><IsTruncated>false</IsTruncated><Contents><Key>201306-citibike-tripdata.zip</Key><LastModified>2018-04-30T13:18:55.000Z</LastModified><ETag>&quot;b520a12de58eea58a3586f89bfcfbd9d-2&quot;</ETag><Size>16785103</Size><StorageClass>STANDARD</StorageClass></Contents><Contents><Key>201307-201402-citibike-tripdata.zip</Key><LastModified>2017-01-18T22:23:25.000Z</LastModified><ETag>&quot;7b3b260b2ab2e5349320121d04bd821c-22&quot;</ETag><Size>178262576</Size><StorageClass>STANDARD</StorageClass></Contents><Contents><Key>201307-citibike-tripdata.zip</Key><LastModified>2017-01-18T22:23:27.000Z</LastModified><ETag>&quot;dd3e6fd5f91715b31eae72868086c08c-4&quot;</ETag><Size>27074629</Size><StorageClass>STANDARD</StorageClass></Contents><Contents><Key>201308-citibike-tripdata.zip</Key><LastModified>2017-01-18T22:23:27.000Z</LastModified><ETag>&quot;2f661063576734f614b9f1d6bba0ec59-4&quot;</ETag><Size>32090869</Size><StorageClass>STANDARD</StorageClass></Contents><Contents><Key>201309-citibike-tripdata.zip</Key><LastModified>2017-01-18T22:23:27.000Z</LastModified><ETag>&quot;a42f947db7bd14e423a7dbfbb11596a1-4&quot;</ETag><Size>33155593</Size><StorageClass>STANDARD</StorageClass></Contents><Contents><Key>201310-citibike-tripdata.zip</Key><LastModified>2017-01-18T22:23:28.000Z</LastModified><ETag>&quot;ba688008fa403b0f2e45cfe6371ac941-4&quot;</ETag><Size>33065440</Size><StorageClass>STANDARD</StorageClass></Contents><Contents><Key>201311-citibike-tripdata.zip</Key><LastModified>2017-01-18T22:23:28.000Z</LastModified><ETag>&quot;e1e69bfad0580b095d4ebaa8367dbe55-3&quot;</ETag><Size>21618143</Size><StorageClass>STANDARD</StorageClass></Contents><Contents><Key>201312-citibike-tripdata.zip</Key><LastModified>2017-01-18T22:23:28.000Z</LastModified><ETag>&quot;534482d30a07443756b7581312f6c118-2&quot;</ETag><Size>14314784</Size><StorageClass>STANDARD</StorageClass></Contents><Contents><Key>201401-citibike-tripdata.zip</Key><LastModified>2017-01-18T22:23:29.000Z</LastModified><ETag>&quot;9374b1f510f67f63e118b15231a2fa1f-2&quot;</ETag><Size>9697309</Size><StorageClass>STANDARD</StorageClass></Contents><Contents><Key>201402-citibike-tripdata.zip</Key><LastModified>2017-01-18T22:23:29.000Z</LastModified><ETag>&quot;bfd6bff90e0b763e3232468d14cc8281&quot;</ETag><Size>7245963</Size><StorageClass>STANDARD</StorageClass></Contents><Contents><Key>201403-citibike-tripdata.zip</Key><LastModified>2017-01-18T22:23:29.000Z</LastModified><ETag>&quot;5d0d63fa680d3d3448a3733c7480d75f-2&quot;</ETag><Size>14132272</Size><StorageClass>STANDARD</StorageClass></Contents><Contents><Key>201404-citibike-tripdata.zip</Key><LastModified>2017-01-18T22:23:29.000Z</LastModified><ETag>&quot;781f3944db1967a377d0688c5ba9846a-3&quot;</ETag><Size>21414350</Size><StorageClass>STANDARD</StorageClass></Contents><Contents><Key>201405-citibike-tripdata.zip</Key><LastModified>2017-01-18T22:23:29.000Z</LastModified><ETag>&quot;e5201dec0b4e77a604a4576d361b22fb-4&quot;</ETag><Size>27591572</Size><StorageClass>STANDARD</StorageClass></Contents><Contents><Key>201406-citibike-tripdata.zip</Key><LastModified>2017-01-18T22:23:29.000Z</LastModified><ETag>&quot;fdfdee31d451fa457b241117aabff7e5-4&quot;</ETag><Size>29902186</Size><StorageClass>STANDARD</StorageClass></Contents><Contents><Key>201407-citibike-tripdata.zip</Key><LastModified>2017-01-18T22:23:30.000Z</LastModified><ETag>&quot;bf419e04dbf6f39cd4a9d10f8723dc92-4&quot;</ETag><Size>30893375</Size><StorageClass>STANDARD</StorageClass></Contents><Contents><Key>201408-citibike-tripdata.zip</Key><LastModified>2017-01-18T22:23:30.000Z</LastModified><ETag>&quot;08b8d0f36c0f6deedaef5555115fb166-4&quot;</ETag><Size>30625219</Size><StorageClass>STANDARD</StorageClass></Contents><Contents><Key>201409-citibike-tripdata.zip</Key><LastModified>2017-01-18T22:23:30.000Z</LastModified><ETag>&quot;134e1a7180da1b3ede44a31b93c8b88b-4&quot;</ETag><Size>30254719</Size><StorageClass>STANDARD</StorageClass></Contents><Contents><Key>201410-citibike-tripdata.zip</Key><LastModified>2017-01-18T22:23:30.000Z</LastModified><ETag>&quot;86f1717b8d57bb54d70cb9effb76847d-4&quot;</ETag><Size>26154448</Size><StorageClass>STANDARD</StorageClass></Contents><Contents><Key>201411-citibike-tripdata.zip</Key><LastModified>2017-01-18T22:23:31.000Z</LastModified><ETag>&quot;57a5ca4902bc6d9aa7eb9fa05c2012ac-3&quot;</ETag><Size>16825916</Size><StorageClass>STANDARD</StorageClass></Contents><Contents><Key>201412-citibike-tripdata.zip</Key><LastModified>2017-01-18T22:23:31.000Z</LastModified><ETag>&quot;03df0ec93b039f6d3ffeb7d6ca53912b-2&quot;</ETag><Size>12724321</Size><StorageClass>STANDARD</StorageClass></Contents><Contents><Key>201501-citibike-tripdata.zip</Key><LastModified>2017-01-18T22:23:31.000Z</LastModified><ETag>&quot;1eed6b2f2edbc910e250a9f643ec6cdd&quot;</ETag><Size>7009614</Size><StorageClass>STANDARD</StorageClass></Contents><Contents><Key>201502-citibike-tripdata.zip</Key><LastModified>2017-01-18T22:23:31.000Z</LastModified><ETag>&quot;52e8a74caf221b6880078b67b4416016&quot;</ETag><Size>4821145</Size><StorageClass>STANDARD</StorageClass></Contents><Contents><Key>201503-citibike-tripdata.zip</Key><LastModified>2017-01-18T22:23:31.000Z</LastModified><ETag>&quot;15c197a8174fcba3d2d0f7805530e1bf-2&quot;</ETag><Size>8418470</Size><StorageClass>STANDARD</StorageClass></Contents><Contents><Key>201504-citibike-tripdata.zip</Key><LastModified>2017-01-18T22:23:31.000Z</LastModified><ETag>&quot;b05f9f28f9fddb54797ee9ba747d8199-3&quot;</ETag><Size>20741670</Size><StorageClass>STANDARD</StorageClass></Contents><Contents><Key>201505-citibike-tripdata.zip</Key><LastModified>2017-01-18T22:23:32.000Z</LastModified><ETag>&quot;4c26fa7a783a091630e0b868d32877d6-4&quot;</ETag><Size>30344940</Size><StorageClass>STANDARD</StorageClass></Contents><Contents><Key>201506-citibike-tripdata.zip</Key><LastModified>2017-01-18T22:23:32.000Z</LastModified><ETag>&quot;da58a79cccdd1cde88040eb3b86813bb-3&quot;</ETag><Size>22888858</Size><StorageClass>STANDARD</StorageClass></Contents><Contents><Key>201507-citibike-tripdata.zip</Key><LastModified>2017-01-18T22:23:32.000Z</LastModified><ETag>&quot;43263c09d2cfb5f04814d3584b8ddf19-5&quot;</ETag><Size>34518665</Size><StorageClass>STANDARD</StorageClass></Contents><Contents><Key>201508-citibike-tripdata.zip</Key><LastModified>2017-01-18T22:23:33.000Z</LastModified><ETag>&quot;9f7c5f303b929aabcbb7d1a6b570730d-5&quot;</ETag><Size>38041594</Size><StorageClass>STANDARD</StorageClass></Contents><Contents><Key>201509-citibike-tripdata.zip</Key><LastModified>2017-01-18T22:23:33.000Z</LastModified><ETag>&quot;ddf49d81c04409ca97ffa6f94a820ee4-6&quot;</ETag><Size>43618303</Size><StorageClass>STANDARD</StorageClass></Contents><Contents><Key>201510-citibike-tripdata.zip</Key><LastModified>2017-01-18T22:23:34.000Z</LastModified><ETag>&quot;30f3bde775cdf2e4046db407b3a6ef7e-5&quot;</ETag><Size>41817833</Size><StorageClass>STANDARD</StorageClass></Contents><Contents><Key>201511-citibike-tripdata.zip</Key><LastModified>2017-01-18T22:23:34.000Z</LastModified><ETag>&quot;0ebee9695eeffbb380bbf3317c351723-5&quot;</ETag><Size>34354395</Size><StorageClass>STANDARD</StorageClass></Contents><Contents><Key>201512-citibike-tripdata.zip</Key><LastModified>2017-01-18T22:23:35.000Z</LastModified><ETag>&quot;c730c06cf892a9a03f5ea6ac795df245-3&quot;</ETag><Size>23145783</Size><StorageClass>STANDARD</StorageClass></Contents><Contents><Key>201601-citibike-tripdata.zip</Key><LastModified>2017-01-18T22:23:35.000Z</LastModified><ETag>&quot;5b358cae0d810c608f80d01ff78c924a-3&quot;</ETag><Size>17794115</Size><StorageClass>STANDARD</StorageClass></Contents><Contents><Key>201602-citibike-tripdata.zip</Key><LastModified>2017-01-18T22:23:35.000Z</LastModified><ETag>&quot;374964e8178459647434063a1795fd13-3&quot;</ETag><Size>19673400</Size><StorageClass>STANDARD</StorageClass></Contents><Contents><Key>201603-citibike-tripdata.zip</Key><LastModified>2017-01-18T22:23:36.000Z</LastModified><ETag>&quot;13fc1b0ff6e650f9df24884254b7427d-4&quot;</ETag><Size>26448564</Size><StorageClass>STANDARD</StorageClass></Contents><Contents><Key>201604-citibike-tripdata.zip</Key><LastModified>2017-01-18T22:23:36.000Z</LastModified><ETag>&quot;9c3455cc6ba242839a5718cac8b3bfa2-5&quot;</ETag><Size>35499519</Size><StorageClass>STANDARD</StorageClass></Contents><Contents><Key>201605-citibike-tripdata.zip</Key><LastModified>2017-01-18T22:23:36.000Z</LastModified><ETag>&quot;a67d8f63a4ef956714a686bf759040bd-6&quot;</ETag><Size>42455227</Size><StorageClass>STANDARD</StorageClass></Contents><Contents><Key>201606-citibike-tripdata.zip</Key><LastModified>2017-01-18T22:23:37.000Z</LastModified><ETag>&quot;31b14fa78c2591925b7b9d0d8d643f39-7&quot;</ETag><Size>51457520</Size><StorageClass>STANDARD</StorageClass></Contents><Contents><Key>201607-citibike-tripdata.zip</Key><LastModified>2017-01-18T22:23:38.000Z</LastModified><ETag>&quot;0d3af64944f9535abf396a96d5795147-6&quot;</ETag><Size>48814309</Size><StorageClass>STANDARD</StorageClass></Contents><Contents><Key>201608-citibike-tripdata.zip</Key><LastModified>2017-01-18T22:23:39.000Z</LastModified><ETag>&quot;dd0649256a52e2e4039cd494a52fff0f-7&quot;</ETag><Size>56054239</Size><StorageClass>STANDARD</StorageClass></Contents><Contents><Key>201609-citibike-tripdata.zip</Key><LastModified>2017-01-18T22:23:40.000Z</LastModified><ETag>&quot;4485c06095657f3ef7da0ff9302b5b19-8&quot;</ETag><Size>60817146</Size><StorageClass>STANDARD</StorageClass></Contents><Contents><Key>201610-citibike-tripdata.zip</Key><LastModified>2017-01-23T14:25:28.000Z</LastModified><ETag>&quot;a84bade59fd26ad49ef93af9ce2cd52a&quot;</ETag><Size>52917646</Size><StorageClass>STANDARD</StorageClass></Contents><Contents><Key>201611-citibike-tripdata.zip</Key><LastModified>2017-01-23T14:25:18.000Z</LastModified><ETag>&quot;880cfc30d95ba9525593375d38bf05a6&quot;</ETag><Size>40309396</Size><StorageClass>STANDARD</StorageClass></Contents><Contents><Key>201612-citibike-tripdata.zip</Key><LastModified>2017-01-23T14:25:24.000Z</LastModified><ETag>&quot;03e20a299cedb824da4ec06146b6bf03&quot;</ETag><Size>27546951</Size><StorageClass>STANDARD</StorageClass></Contents><Contents><Key>201701-citibike-tripdata.csv.zip</Key><LastModified>2017-04-06T21:01:05.000Z</LastModified><ETag>&quot;07f0bf735465bdcc98b88941695a5996-3&quot;</ETag><Size>24252143</Size><StorageClass>STANDARD</StorageClass></Contents><Contents><Key>201702-citibike-tripdata.csv.zip</Key><LastModified>2017-04-06T21:01:14.000Z</LastModified><ETag>&quot;ffe3cd2c33d82f96991eae69aef833a9-4&quot;</ETag><Size>26345821</Size><StorageClass>STANDARD</StorageClass></Contents><Contents><Key>201703-citibike-tripdata.csv.zip</Key><LastModified>2017-04-06T21:01:25.000Z</LastModified><ETag>&quot;212ccae72dff7fe43530c987e3d43050-3&quot;</ETag><Size>24167719</Size><StorageClass>STANDARD</StorageClass></Contents><Contents><Key>201704-citibike-tripdata.csv.zip</Key><LastModified>2017-08-01T16:16:58.000Z</LastModified><ETag>&quot;0c5a3de95ce45cc9d50fce5a6819dde1-6&quot;</ETag><Size>45080546</Size><StorageClass>STANDARD</StorageClass></Contents><Contents><Key>201705-citibike-tripdata.csv.zip</Key><LastModified>2017-08-01T16:17:14.000Z</LastModified><ETag>&quot;c8da677e23e7fd94fe4fdc8b79728a45-7&quot;</ETag><Size>52672403</Size><StorageClass>STANDARD</StorageClass></Contents><Contents><Key>201706-citibike-tripdata.csv.zip</Key><LastModified>2017-08-01T16:17:25.000Z</LastModified><ETag>&quot;50b163a2a764b416dc2ffbfe2a09607d-8&quot;</ETag><Size>60394834</Size><StorageClass>STANDARD</StorageClass></Contents><Contents><Key>201707-citibike-tripdata.csv.zip</Key><LastModified>2017-08-01T16:17:42.000Z</LastModified><ETag>&quot;74ffbf191c811d5805f0675d78375878-8&quot;</ETag><Size>60552358</Size><StorageClass>STANDARD</StorageClass></Contents><Contents><Key>201708-citibike-tripdata.csv.zip</Key><LastModified>2017-10-03T15:52:50.000Z</LastModified><ETag>&quot;a56eaefeea62ac85ef30485731e03161-4&quot;</ETag><Size>63277904</Size><StorageClass>STANDARD</StorageClass></Contents><Contents><Key>201709-citibike-tripdata.csv.zip</Key><LastModified>2017-10-03T15:52:58.000Z</LastModified><ETag>&quot;6e453ea73b4e068d9e50652a9ce80110-4&quot;</ETag><Size>65875226</Size><StorageClass>STANDARD</StorageClass></Contents><Contents><Key>201710-citibike-tripdata.csv.zip</Key><LastModified>2018-01-31T21:14:57.000Z</LastModified><ETag>&quot;7d399222cc1e0fc7eed2152cef0c70be-5&quot;</ETag><Size>67606081</Size><StorageClass>STANDARD</StorageClass></Contents><Contents><Key>201711-citibike-tripdata.csv.zip</Key><LastModified>2018-01-31T21:15:07.000Z</LastModified><ETag>&quot;4df818143c4e832c8067375cc2d5f346-3&quot;</ETag><Size>47767828</Size><StorageClass>STANDARD</StorageClass></Contents><Contents><Key>201712-citibike-tripdata.csv.zip</Key><LastModified>2018-01-31T21:15:13.000Z</LastModified><ETag>&quot;9be1866c1dd6dd0f88e7181964cea52d-2&quot;</ETag><Size>32096921</Size><StorageClass>STANDARD</StorageClass></Contents><Contents><Key>201801-citibike-tripdata.csv.zip</Key><LastModified>2018-09-06T18:44:00.000Z</LastModified><ETag>&quot;e82b7438b7057052afff71b3941e98b8-2&quot;</ETag><Size>23243282</Size><StorageClass>STANDARD</StorageClass></Contents><Contents><Key>201802-citibike-tripdata.csv.zip</Key><LastModified>2018-09-06T18:44:02.000Z</LastModified><ETag>&quot;e9b3c1de5effe60539a11e31438d5760-2&quot;</ETag><Size>27445342</Size><StorageClass>STANDARD</StorageClass></Contents><Contents><Key>201803-citibike-tripdata.csv.zip</Key><LastModified>2018-09-06T18:44:06.000Z</LastModified><ETag>&quot;58e1a32bf1c7da71d323871451464751-2&quot;</ETag><Size>31772071</Size><StorageClass>STANDARD</StorageClass></Contents><Contents><Key>201804-citibike-tripdata.csv.zip</Key><LastModified>2018-09-06T18:44:09.000Z</LastModified><ETag>&quot;4d2f0b19de8e06a35cb836e1549f94fd-3&quot;</ETag><Size>42777120</Size><StorageClass>STANDARD</StorageClass></Contents><Contents><Key>201805-citibike-tripdata.csv.zip</Key><LastModified>2018-09-06T18:44:14.000Z</LastModified><ETag>&quot;9fb1051c486c1ab71f8456bf06dee1e6-4&quot;</ETag><Size>60398070</Size><StorageClass>STANDARD</StorageClass></Contents><Contents><Key>201806-citibike-tripdata.csv.zip</Key><LastModified>2018-09-06T18:44:22.000Z</LastModified><ETag>&quot;c1e29d3ceec436f6022258ec148e0868-4&quot;</ETag><Size>64676423</Size><StorageClass>STANDARD</StorageClass></Contents><Contents><Key>201807-citibike-tripdata.csv.zip</Key><LastModified>2018-09-06T18:44:30.000Z</LastModified><ETag>&quot;e20638783252b55c824a6fd107e9e4a3-4&quot;</ETag><Size>63141848</Size><StorageClass>STANDARD</StorageClass></Contents><Contents><Key>201808-citibike-tripdata.csv.zip</Key><LastModified>2018-09-12T18:57:00.000Z</LastModified><ETag>&quot;75f3f724354d80bbc1df56a7b7027615-6&quot;</ETag><Size>84330202</Size><StorageClass>STANDARD</StorageClass></Contents><Contents><Key>201809-citibike-tripdata.csv.zip</Key><LastModified>2018-10-03T18:48:03.000Z</LastModified><ETag>&quot;33d763b77abaca376ec864cf72fd85b0-5&quot;</ETag><Size>80091394</Size><StorageClass>STANDARD</StorageClass></Contents><Contents><Key>201810-citibike-tripdata.csv.zip</Key><LastModified>2018-11-07T19:43:33.000Z</LastModified><ETag>&quot;6a47664959f92a7dc5c2fd3f3eeea032-5&quot;</ETag><Size>79982702</Size><StorageClass>STANDARD</StorageClass></Contents><Contents><Key>201811-citibike-tripdata.csv.zip</Key><LastModified>2018-12-04T16:27:25.000Z</LastModified><ETag>&quot;2ed5f0212ce2a21b2e85efcce8fc8dd6-7&quot;</ETag><Size>53731674</Size><StorageClass>STANDARD</StorageClass></Contents><Contents><Key>201812-citibike-tripdata.csv.zip</Key><LastModified>2019-01-08T20:51:08.000Z</LastModified><ETag>&quot;39ca7a69e73e64036301db8ea801059e-6&quot;</ETag><Size>43605212</Size><StorageClass>STANDARD</StorageClass></Contents><Contents><Key>201901-citibike-tripdata.csv.zip</Key><LastModified>2019-02-11T14:43:30.000Z</LastModified><ETag>&quot;2834834164e0f52c3841cc1b0f81ada9-5&quot;</ETag><Size>41467182</Size><StorageClass>STANDARD</StorageClass></Contents><Contents><Key>201902-citibike-tripdata.csv.zip</Key><LastModified>2019-03-04T16:21:38.000Z</LastModified><ETag>&quot;de3b0cc72158b1eb0048445dd3344c88-5&quot;</ETag><Size>40466165</Size><StorageClass>STANDARD</StorageClass></Contents><Contents><Key>201903-citibike-tripdata.csv.zip</Key><LastModified>2019-04-15T18:34:41.000Z</LastModified><ETag>&quot;8506f8fdb6db709de9fa5923f47ddd72-7&quot;</ETag><Size>57199131</Size><StorageClass>STANDARD</StorageClass></Contents><Contents><Key>201904-citibike-tripdata.csv.zip</Key><LastModified>2019-05-06T19:07:32.000Z</LastModified><ETag>&quot;58de1a81266f0635cc60bfcfd6506feb-9&quot;</ETag><Size>75703003</Size><StorageClass>STANDARD</StorageClass></Contents><Contents><Key>201905-citibike-tripdata.csv.zip</Key><LastModified>2019-06-11T19:37:54.000Z</LastModified><ETag>&quot;0552361e26e8fa6cb34780bb6b517588-10&quot;</ETag><Size>82176801</Size><StorageClass>STANDARD</StorageClass></Contents><Contents><Key>201906-citibike-tripdata.csv.zip</Key><LastModified>2019-07-15T17:42:08.000Z</LastModified><ETag>&quot;4b9c70d4a34e075fe6f6e30b1f5c6827-6&quot;</ETag><Size>91078031</Size><StorageClass>STANDARD</StorageClass></Contents><Contents><Key>201907-citibike-tripdata.csv.zip</Key><LastModified>2019-08-05T21:34:01.000Z</LastModified><ETag>&quot;9eaf6d25e73508815c08bd0d09661385-6&quot;</ETag><Size>93359147</Size><StorageClass>STANDARD</StorageClass></Contents><Contents><Key>201908-citibike-tripdata.csv.zip</Key><LastModified>2019-09-18T20:33:14.000Z</LastModified><ETag>&quot;6c63755f110671e477130c86c81c4f8f-6&quot;</ETag><Size>100021943</Size><StorageClass>STANDARD</StorageClass></Contents><Contents><Key>201909-citibike-tripdata.csv.zip</Key><LastModified>2019-10-11T19:42:04.000Z</LastModified><ETag>&quot;6a359e103229b5fc639df4288333955e-7&quot;</ETag><Size>104185546</Size><StorageClass>STANDARD</StorageClass></Contents><Contents><Key>201910-citibike-tripdata.csv.zip</Key><LastModified>2019-11-05T22:10:55.000Z</LastModified><ETag>&quot;4a7316be1333adc40d6e2f4d62c9398b-6&quot;</ETag><Size>89195648</Size><StorageClass>STANDARD</StorageClass></Contents><Contents><Key>201911-citibike-tripdata.csv.zip</Key><LastModified>2019-12-20T18:44:54.000Z</LastModified><ETag>&quot;cf2ceba8040d51832f25c701165af044-4&quot;</ETag><Size>63195929</Size><StorageClass>STANDARD</StorageClass></Contents><Contents><Key>201912-citibike-tripdata.csv.zip</Key><LastModified>2020-01-21T21:23:32.000Z</LastModified><ETag>&quot;706907c268fcf83a0779b3de1fe5536a-3&quot;</ETag><Size>41083888</Size><StorageClass>STANDARD</StorageClass></Contents><Contents><Key>202001-citibike-tripdata.csv.zip</Key><LastModified>2020-02-04T19:05:46.000Z</LastModified><ETag>&quot;18e2f76d448079849c7461b7145597ee-4&quot;</ETag><Size>53473358</Size><StorageClass>STANDARD</StorageClass></Contents><Contents><Key>202002-citibike-tripdata.csv.zip</Key><LastModified>2020-03-24T20:07:44.000Z</LastModified><ETag>&quot;292e9bf75561d1936a8ddedebabd0907-3&quot;</ETag><Size>49514434</Size><StorageClass>STANDARD</StorageClass></Contents><Contents><Key>202003-citibike-tripdata.csv.zip</Key><LastModified>2020-04-17T23:58:01.000Z</LastModified><ETag>&quot;0ea9dc0fb3226200da261ca43b8687d5-3&quot;</ETag><Size>46657798</Size><StorageClass>STANDARD</StorageClass></Contents><Contents><Key>202004-citibike-tripdata.csv.zip</Key><LastModified>2020-05-27T00:18:14.000Z</LastModified><ETag>&quot;965c659721b49ed4559a28b79b51d1a9-2&quot;</ETag><Size>30120835</Size><StorageClass>STANDARD</StorageClass></Contents><Contents><Key>202005-citibike-tripdata.csv.zip</Key><LastModified>2020-06-05T16:09:37.000Z</LastModified><ETag>&quot;650abda0a8e62b265bc960a7daf19410-4&quot;</ETag><Size>65378700</Size><StorageClass>STANDARD</StorageClass></Contents><Contents><Key>202006-citibike-tripdata.csv.zip</Key><LastModified>2020-07-06T00:37:43.000Z</LastModified><ETag>&quot;a2750991bca1b0bd6aa3ecc185ecfefe-5&quot;</ETag><Size>83399305</Size><StorageClass>STANDARD</StorageClass></Contents><Contents><Key>202007-citibike-tripdata.csv.zip</Key><LastModified>2020-08-12T02:13:25.000Z</LastModified><ETag>&quot;e20dea3a394088fed3b9ba33d30dc756-6&quot;</ETag><Size>94091098</Size><StorageClass>STANDARD</StorageClass></Contents><Contents><Key>202008-citibike-tripdata.csv.zip</Key><LastModified>2020-09-04T19:37:28.000Z</LastModified><ETag>&quot;b95ad35f4aba6e7aff2f15e7a06c65f3-7&quot;</ETag><Size>104256804</Size><StorageClass>STANDARD</StorageClass></Contents><Contents><Key>202009-citibike-tripdata.csv.zip</Key><LastModified>2020-10-13T19:55:55.000Z</LastModified><ETag>&quot;8eb9cb0b22b688d689cb2d0df1a513de-7&quot;</ETag><Size>111931985</Size><StorageClass>STANDARD</StorageClass></Contents><Contents><Key>202010-citibike-tripdata.csv.zip</Key><LastModified>2020-11-04T14:51:10.000Z</LastModified><ETag>&quot;1984649779c289f31e90a9cac42aab5d-6&quot;</ETag><Size>101843579</Size><StorageClass>STANDARD</StorageClass></Contents><Contents><Key>202011-citibike-tripdata.csv.zip</Key><LastModified>2020-12-04T23:26:03.000Z</LastModified><ETag>&quot;e232da26873706f68ab66de8cea01f18-5&quot;</ETag><Size>78691946</Size><StorageClass>STANDARD</StorageClass></Contents><Contents><Key>202012-citibike-tripdata.csv.zip</Key><LastModified>2021-01-05T14:25:44.000Z</LastModified><ETag>&quot;05a785d765fd866f4962c57cd01b74d0-3&quot;</ETag><Size>49547377</Size><StorageClass>STANDARD</StorageClass></Contents><Contents><Key>202101-citibike-tripdata.csv.zip</Key><LastModified>2021-02-08T15:11:26.000Z</LastModified><ETag>&quot;d14e4c41cfb30847f3c86b01aa6096a2-3&quot;</ETag><Size>50120830</Size><StorageClass>STANDARD</StorageClass></Contents><Contents><Key>JC-201509-citibike-tripdata.csv.zip</Key><LastModified>2017-04-06T21:01:34.000Z</LastModified><ETag>&quot;857f36b80cde633c2dab5d8f7485b4f1&quot;</ETag><Size>127657</Size><StorageClass>STANDARD</StorageClass></Contents><Contents><Key>JC-201510-citibike-tripdata.csv.zip</Key><LastModified>2017-04-06T21:01:35.000Z</LastModified><ETag>&quot;f0f80e2462bcb30aed2c3d13203b2047&quot;</ETag><Size>366062</Size><StorageClass>STANDARD</StorageClass></Contents><Contents><Key>JC-201511-citibike-tripdata.csv.zip</Key><LastModified>2017-04-06T21:01:37.000Z</LastModified><ETag>&quot;35dc13c5825bec76abc928cc669329ad&quot;</ETag><Size>288054</Size><StorageClass>STANDARD</StorageClass></Contents><Contents><Key>JC-201512-citibike-tripdata.csv.zip</Key><LastModified>2017-04-06T21:01:38.000Z</LastModified><ETag>&quot;6ceb3e880db303d525877cc2abff5b75&quot;</ETag><Size>227741</Size><StorageClass>STANDARD</StorageClass></Contents><Contents><Key>JC-201601-citibike-tripdata.csv.zip</Key><LastModified>2017-04-06T21:01:38.000Z</LastModified><ETag>&quot;4d1b862592ddbc8c73af1166d24df971&quot;</ETag><Size>144314</Size><StorageClass>STANDARD</StorageClass></Contents><Contents><Key>JC-201602-citibike-tripdata.csv.zip</Key><LastModified>2017-04-06T21:01:38.000Z</LastModified><ETag>&quot;f348433da2c7ecb9c3728230efb9bbb7&quot;</ETag><Size>159787</Size><StorageClass>STANDARD</StorageClass></Contents><Contents><Key>JC-201603-citibike-tripdata.csv.zip</Key><LastModified>2017-04-06T21:01:39.000Z</LastModified><ETag>&quot;2c7aad6a59d31fa56951b80417131748&quot;</ETag><Size>259577</Size><StorageClass>STANDARD</StorageClass></Contents><Contents><Key>JC-201604-citibike-tripdata.csv.zip</Key><LastModified>2017-04-06T21:01:39.000Z</LastModified><ETag>&quot;f158870fad2a154690394553d20037ec&quot;</ETag><Size>311199</Size><StorageClass>STANDARD</StorageClass></Contents><Contents><Key>JC-201605-citibike-tripdata.csv.zip</Key><LastModified>2017-04-06T21:01:40.000Z</LastModified><ETag>&quot;8dec52dc3ba61b9d19861ede6a9e81cb&quot;</ETag><Size>369535</Size><StorageClass>STANDARD</StorageClass></Contents><Contents><Key>JC-201606-citibike-tripdata.csv.zip</Key><LastModified>2017-04-06T21:01:40.000Z</LastModified><ETag>&quot;46fcef1816baefcf001d8becf0d845e7&quot;</ETag><Size>452907</Size><StorageClass>STANDARD</StorageClass></Contents><Contents><Key>JC-201607-citibike-tripdata.csv.zip</Key><LastModified>2017-04-06T21:01:41.000Z</LastModified><ETag>&quot;f9916a0482e1e9fec479f002b7ff6629&quot;</ETag><Size>465773</Size><StorageClass>STANDARD</StorageClass></Contents><Contents><Key>JC-201608-citibike-tripdata.csv.zip</Key><LastModified>2017-04-06T21:01:41.000Z</LastModified><ETag>&quot;8d39f010fd0442c60ea96eb684701b7a&quot;</ETag><Size>666337</Size><StorageClass>STANDARD</StorageClass></Contents><Contents><Key>JC-201609-citibike-tripdata.csv.zip</Key><LastModified>2017-04-06T21:01:42.000Z</LastModified><ETag>&quot;5b09bea854ab2d6bcedf86e38385a76e&quot;</ETag><Size>652630</Size><StorageClass>STANDARD</StorageClass></Contents><Contents><Key>JC-201610-citibike-tripdata.csv.zip</Key><LastModified>2017-04-06T21:01:42.000Z</LastModified><ETag>&quot;9f85aa7b937d472fbce0548183bdc120&quot;</ETag><Size>581361</Size><StorageClass>STANDARD</StorageClass></Contents><Contents><Key>JC-201611-citibike-tripdata.csv.zip</Key><LastModified>2017-04-06T21:01:43.000Z</LastModified><ETag>&quot;a57d34785c989b88c3de53a9b173541d&quot;</ETag><Size>434377</Size><StorageClass>STANDARD</StorageClass></Contents><Contents><Key>JC-201612-citibike-tripdata.csv.zip</Key><LastModified>2017-04-06T21:01:43.000Z</LastModified><ETag>&quot;5e5420dbbde9bff736c43e755a9a0fc4&quot;</ETag><Size>304997</Size><StorageClass>STANDARD</StorageClass></Contents><Contents><Key>JC-201701-citibike-tripdata.csv.zip</Key><LastModified>2017-04-06T21:01:43.000Z</LastModified><ETag>&quot;154e45cac095ee5e2a6b2ca78c335a99&quot;</ETag><Size>260769</Size><StorageClass>STANDARD</StorageClass></Contents><Contents><Key>JC-201702-citibike-tripdata.csv.zip</Key><LastModified>2017-04-06T21:01:44.000Z</LastModified><ETag>&quot;4d63b31d2d92a5c6b60bc5d79cadb6f6&quot;</ETag><Size>281945</Size><StorageClass>STANDARD</StorageClass></Contents><Contents><Key>JC-201703-citibike-tripdata.csv.zip</Key><LastModified>2017-04-06T21:01:44.000Z</LastModified><ETag>&quot;eb9b695532fa446fc70a5c5c35a122a8&quot;</ETag><Size>246627</Size><StorageClass>STANDARD</StorageClass></Contents><Contents><Key>JC-201704-citibike-tripdata.csv.zip</Key><LastModified>2017-08-01T16:20:54.000Z</LastModified><ETag>&quot;6a08beb15c4cec87becf5f7bf381c216&quot;</ETag><Size>442528</Size><StorageClass>STANDARD</StorageClass></Contents><Contents><Key>JC-201705-citibike-tripdata.csv.zip</Key><LastModified>2017-08-01T16:20:55.000Z</LastModified><ETag>&quot;d6ab53a4475364a23413a07901888bcb&quot;</ETag><Size>541466</Size><StorageClass>STANDARD</StorageClass></Contents><Contents><Key>JC-201706-citibike-tripdata.csv.zip</Key><LastModified>2017-08-01T16:20:56.000Z</LastModified><ETag>&quot;47126b22da448fe4a54315763dfe53cb&quot;</ETag><Size>662240</Size><StorageClass>STANDARD</StorageClass></Contents><Contents><Key>JC-201707-citibike-tripdata.csv.zip</Key><LastModified>2017-08-01T16:20:57.000Z</LastModified><ETag>&quot;2ed44308399d4f88dc03875880e46dd8&quot;</ETag><Size>692715</Size><StorageClass>STANDARD</StorageClass></Contents><Contents><Key>JC-201708 citibike-tripdata.csv.zip</Key><LastModified>2017-10-03T15:52:49.000Z</LastModified><ETag>&quot;01266afee17f7f69cb2ff83bccd83bda&quot;</ETag><Size>727994</Size><StorageClass>STANDARD</StorageClass></Contents><Contents><Key>JC-201709-citibike-tripdata.csv.zip</Key><LastModified>2017-10-03T15:52:49.000Z</LastModified><ETag>&quot;e79ddb4fcc2d9eb50b9b2d26ab8905b4&quot;</ETag><Size>683286</Size><StorageClass>STANDARD</StorageClass></Contents><Contents><Key>JC-201710-citibike-tripdata.csv.zip</Key><LastModified>2018-01-31T21:15:18.000Z</LastModified><ETag>&quot;a307814b20dd3382473e4a7b1658e308&quot;</ETag><Size>720077</Size><StorageClass>STANDARD</StorageClass></Contents><Contents><Key>JC-201711-citibike-tripdata.csv.zip</Key><LastModified>2018-01-31T21:15:19.000Z</LastModified><ETag>&quot;f89c3a52e4572339c4a57c361bebd5e5&quot;</ETag><Size>488743</Size><StorageClass>STANDARD</StorageClass></Contents><Contents><Key>JC-201712-citibike-tripdata.csv.zip</Key><LastModified>2018-01-31T21:15:19.000Z</LastModified><ETag>&quot;31c75e2eaf297f5c2ec907da6eca4b72&quot;</ETag><Size>331501</Size><StorageClass>STANDARD</StorageClass></Contents><Contents><Key>JC-201801-citibike-tripdata.csv.zip</Key><LastModified>2018-09-06T18:44:38.000Z</LastModified><ETag>&quot;fdc9be581c57ffd3735b6b2a73a95716&quot;</ETag><Size>335740</Size><StorageClass>STANDARD</StorageClass></Contents><Contents><Key>JC-201802-citibike-tripdata.csv.zip</Key><LastModified>2018-09-06T18:44:38.000Z</LastModified><ETag>&quot;c6c4d02299ebe35450b55ba6a20d0042&quot;</ETag><Size>397953</Size><StorageClass>STANDARD</StorageClass></Contents><Contents><Key>JC-201803-citibike-tripdata.csv.zip</Key><LastModified>2018-09-06T18:44:39.000Z</LastModified><ETag>&quot;92ce13052e8d0c883c9744bfdfd0830f&quot;</ETag><Size>453590</Size><StorageClass>STANDARD</StorageClass></Contents><Contents><Key>JC-201804-citibike-tripdata.csv.zip</Key><LastModified>2018-09-06T18:44:39.000Z</LastModified><ETag>&quot;cd39b12d96bb903e7f0ac7448bab4370&quot;</ETag><Size>628954</Size><StorageClass>STANDARD</StorageClass></Contents><Contents><Key>JC-201805-citibike-tripdata.csv.zip</Key><LastModified>2018-09-06T18:44:40.000Z</LastModified><ETag>&quot;f0efb047f0789d35fa8d236798b887e9&quot;</ETag><Size>909305</Size><StorageClass>STANDARD</StorageClass></Contents><Contents><Key>JC-201806-citibike-tripdata.csv.zip</Key><LastModified>2018-09-06T18:44:40.000Z</LastModified><ETag>&quot;4d26be7f21f47065b3a97036ecb458f0&quot;</ETag><Size>1078776</Size><StorageClass>STANDARD</StorageClass></Contents><Contents><Key>JC-201807-citibike-tripdata.csv.zip</Key><LastModified>2018-09-06T18:44:41.000Z</LastModified><ETag>&quot;7d7f4d25a93a7fce663966d8fedb2332&quot;</ETag><Size>1114006</Size><StorageClass>STANDARD</StorageClass></Contents><Contents><Key>JC-201808-citibike-tripdata.csv.zip</Key><LastModified>2018-09-12T18:58:07.000Z</LastModified><ETag>&quot;324eecfa22ddf286719a3df242b89034&quot;</ETag><Size>1165898</Size><StorageClass>STANDARD</StorageClass></Contents><Contents><Key>JC-201809-citibike-tripdata.csv.zip</Key><LastModified>2018-10-03T18:48:13.000Z</LastModified><ETag>&quot;ed0ddf8ec6aa8bd2d569dc2c148e6517&quot;</ETag><Size>1029196</Size><StorageClass>STANDARD</StorageClass></Contents><Contents><Key>JC-201810-citibike-tripdata.csv.zip</Key><LastModified>2018-11-07T19:44:39.000Z</LastModified><ETag>&quot;eb9856ac4bf76b98f29710982384d482&quot;</ETag><Size>1025727</Size><StorageClass>STANDARD</StorageClass></Contents><Contents><Key>JC-201811-citibike-tripdata.csv.zip</Key><LastModified>2018-12-04T16:27:38.000Z</LastModified><ETag>&quot;0ade6c97e94ea6cfdcfad6af03392dc0&quot;</ETag><Size>655752</Size><StorageClass>STANDARD</StorageClass></Contents><Contents><Key>JC-201812-citibike-tripdata.csv.zip</Key><LastModified>2019-01-08T20:51:15.000Z</LastModified><ETag>&quot;3d4fbbfb80eaf845ced4384de8712765&quot;</ETag><Size>533878</Size><StorageClass>STANDARD</StorageClass></Contents><Contents><Key>JC-201901-citibike-tripdata.csv.zip</Key><LastModified>2019-02-11T14:43:41.000Z</LastModified><ETag>&quot;47cca6aac88569850708f5e34edd1c14&quot;</ETag><Size>517665</Size><StorageClass>STANDARD</StorageClass></Contents><Contents><Key>JC-201902-citibike-tripdata.csv.zip</Key><LastModified>2019-03-04T16:21:48.000Z</LastModified><ETag>&quot;3847a7474d6d6ec49d79cd056c6208f8&quot;</ETag><Size>491166</Size><StorageClass>STANDARD</StorageClass></Contents><Contents><Key>JC-201903-citibike-tripdata.csv.zip</Key><LastModified>2019-04-15T18:34:52.000Z</LastModified><ETag>&quot;02ddb9c67cbbc383c99d33e02398f956&quot;</ETag><Size>623509</Size><StorageClass>STANDARD</StorageClass></Contents><Contents><Key>JC-201904-citibike-tripdata.csv.zip</Key><LastModified>2019-05-06T19:07:33.000Z</LastModified><ETag>&quot;c6a586a126bcac25d37b8c44bdf0900d&quot;</ETag><Size>867370</Size><StorageClass>STANDARD</StorageClass></Contents><Contents><Key>JC-201905-citibike-tripdata.csv.zip</Key><LastModified>2019-06-11T19:37:55.000Z</LastModified><ETag>&quot;b2f4e51cf2f5d7447c937d7bedcabe24&quot;</ETag><Size>931693</Size><StorageClass>STANDARD</StorageClass></Contents><Contents><Key>JC-201906-citibike-tripdata.csv.zip</Key><LastModified>2019-07-15T17:42:09.000Z</LastModified><ETag>&quot;0d353eb29eedd5eee1cdc0bb840f7284&quot;</ETag><Size>1018935</Size><StorageClass>STANDARD</StorageClass></Contents><Contents><Key>JC-201907-citibike-tripdata.csv.zip</Key><LastModified>2019-08-05T21:34:01.000Z</LastModified><ETag>&quot;f7c47b623c12a7cc4ca5b88a9d228f5a&quot;</ETag><Size>1131502</Size><StorageClass>STANDARD</StorageClass></Contents><Contents><Key>JC-201908-citibike-tripdata.csv.zip</Key><LastModified>2019-09-18T20:33:15.000Z</LastModified><ETag>&quot;0178fa80feb8249070433a47723490f3&quot;</ETag><Size>1258122</Size><StorageClass>STANDARD</StorageClass></Contents><Contents><Key>JC-201909-citibike-tripdata.csv.zip</Key><LastModified>2019-10-11T19:42:04.000Z</LastModified><ETag>&quot;6a2951303488759d3cb9c9c9b69a43ac&quot;</ETag><Size>1271064</Size><StorageClass>STANDARD</StorageClass></Contents><Contents><Key>JC-201910-citibike-tripdata.csv.zip</Key><LastModified>2019-11-05T22:10:56.000Z</LastModified><ETag>&quot;2c82b76904c2a1e07ec0cb1457097753&quot;</ETag><Size>1091154</Size><StorageClass>STANDARD</StorageClass></Contents><Contents><Key>JC-201911-citibike-tripdata.csv.zip</Key><LastModified>2019-12-20T18:44:56.000Z</LastModified><ETag>&quot;cd216a574db2d2d145147a89a8c6235d&quot;</ETag><Size>799781</Size><StorageClass>STANDARD</StorageClass></Contents><Contents><Key>JC-201912-citibike-tripdata.csv.zip</Key><LastModified>2020-01-21T21:23:33.000Z</LastModified><ETag>&quot;4dc7a63c0eac3f12210de53a6a30ea79&quot;</ETag><Size>517583</Size><StorageClass>STANDARD</StorageClass></Contents><Contents><Key>JC-202001-citibike-tripdata.csv.zip</Key><LastModified>2020-02-04T19:05:47.000Z</LastModified><ETag>&quot;4a58b007c81a1843a03e0b18a63d3f42&quot;</ETag><Size>679086</Size><StorageClass>STANDARD</StorageClass></Contents><Contents><Key>JC-202002-citibike-tripdata.csv.zip</Key><LastModified>2020-03-24T20:07:53.000Z</LastModified><ETag>&quot;8ef84102acf2b355f7457c1aa374b7cf&quot;</ETag><Size>599276</Size><StorageClass>STANDARD</StorageClass></Contents><Contents><Key>JC-202003-citibike-tripdata.csv.zip</Key><LastModified>2020-04-17T23:58:04.000Z</LastModified><ETag>&quot;f93a1b4734de9a6e5e422ce8b2fe7419&quot;</ETag><Size>465329</Size><StorageClass>STANDARD</StorageClass></Contents><Contents><Key>JC-202004-citibike-tripdata.csv.zip</Key><LastModified>2020-05-27T00:18:16.000Z</LastModified><ETag>&quot;e12fe9d5ba889aa2d891347f80e62be3&quot;</ETag><Size>246177</Size><StorageClass>STANDARD</StorageClass></Contents><Contents><Key>JC-202005-citibike-tripdata.csv.zip</Key><LastModified>2020-06-05T16:09:40.000Z</LastModified><ETag>&quot;a8a53f2ae57b29a9fe287a7e666a8c74&quot;</ETag><Size>655725</Size><StorageClass>STANDARD</StorageClass></Contents><Contents><Key>JC-202006-citibike-tripdata.csv.zip</Key><LastModified>2020-07-06T00:37:53.000Z</LastModified><ETag>&quot;ebaaa7c1eb9467d04a7748feb6fc4f5b&quot;</ETag><Size>968484</Size><StorageClass>STANDARD</StorageClass></Contents><Contents><Key>JC-202007-citibike-tripdata.csv.zip</Key><LastModified>2020-08-12T02:13:32.000Z</LastModified><ETag>&quot;4519a964d5b66156f9e661b7e78906ac&quot;</ETag><Size>1017946</Size><StorageClass>STANDARD</StorageClass></Contents><Contents><Key>JC-202008-citibike-tripdata.csv.zip</Key><LastModified>2020-09-04T19:37:33.000Z</LastModified><ETag>&quot;bc110ea6ded190e5625213e05dce31fb&quot;</ETag><Size>1137151</Size><StorageClass>STANDARD</StorageClass></Contents><Contents><Key>JC-202009-citibike-tripdata.csv.zip</Key><LastModified>2020-10-13T19:56:03.000Z</LastModified><ETag>&quot;f818f87d1b8357d8755b610ea231aeef&quot;</ETag><Size>1419708</Size><StorageClass>STANDARD</StorageClass></Contents><Contents><Key>JC-202010-citibike-tripdata.csv.zip</Key><LastModified>2020-11-04T14:51:11.000Z</LastModified><ETag>&quot;148431d3598f7e962338c33da2afddf3&quot;</ETag><Size>798066</Size><StorageClass>STANDARD</StorageClass></Contents><Contents><Key>JC-202011-citibike-tripdata.csv.zip</Key><LastModified>2020-12-04T23:26:04.000Z</LastModified><ETag>&quot;ab9ee4bbbc03633d610e18319d23fc21&quot;</ETag><Size>569245</Size><StorageClass>STANDARD</StorageClass></Contents><Contents><Key>JC-202012-citibike-tripdata.csv.zip</Key><LastModified>2021-01-05T14:25:45.000Z</LastModified><ETag>&quot;112033c48cf3fa673b396364a7cc08f6&quot;</ETag><Size>315012</Size><StorageClass>STANDARD</StorageClass></Contents><Contents><Key>JC-202101-citibike-tripdata.csv.zip</Key><LastModified>2021-02-08T15:11:26.000Z</LastModified><ETag>&quot;02e5da50db92added528f438587bb1e7&quot;</ETag><Size>313806</Size><StorageClass>STANDARD</StorageClass></Contents><Contents><Key>index.html</Key><LastModified>2017-01-18T22:23:41.000Z</LastModified><ETag>&quot;0a0a71d28229db9a3ddd27b9c9ca1f10&quot;</ETag><Size>6430</Size><StorageClass>STANDARD</StorageClass></Contents></ListBucketResult>'"
      ]
     },
     "execution_count": 62,
     "metadata": {},
     "output_type": "execute_result"
    }
   ],
   "source": [
    " r2.content"
   ]
  },
  {
   "cell_type": "code",
   "execution_count": 67,
   "id": "dressed-departure",
   "metadata": {
    "scrolled": false
   },
   "outputs": [
    {
     "data": {
      "text/plain": [
       "'<?xml version=\"1.0\" encoding=\"UTF-8\"?>\\n<ListBucketResult xmlns=\"http://s3.amazonaws.com/doc/2006-03-01/\"><Name>tripdata</Name><Prefix></Prefix><Marker></Marker><MaxKeys>1000</MaxKeys><IsTruncated>false</IsTruncated><Contents><Key>201306-citibike-tripdata.zip</Key><LastModified>2018-04-30T13:18:55.000Z</LastModified><ETag>&quot;b520a12de58eea58a3586f89bfcfbd9d-2&quot;</ETag><Size>16785103</Size><StorageClass>STANDARD</StorageClass></Contents><Contents><Key>201307-201402-citibike-tripdata.zip</Key><LastModified>2017-01-18T22:23:25.000Z</LastModified><ETag>&quot;7b3b260b2ab2e5349320121d04bd821c-22&quot;</ETag><Size>178262576</Size><StorageClass>STANDARD</StorageClass></Contents><Contents><Key>201307-citibike-tripdata.zip</Key><LastModified>2017-01-18T22:23:27.000Z</LastModified><ETag>&quot;dd3e6fd5f91715b31eae72868086c08c-4&quot;</ETag><Size>27074629</Size><StorageClass>STANDARD</StorageClass></Contents><Contents><Key>201308-citibike-tripdata.zip</Key><LastModified>2017-01-18T22:23:27.000Z</LastModified><ETag>&quot;2f661063576734f614b9f1d6bba0ec59-4&quot;</ETag><Size>32090869</Size><StorageClass>STANDARD</StorageClass></Contents><Contents><Key>201309-citibike-tripdata.zip</Key><LastModified>2017-01-18T22:23:27.000Z</LastModified><ETag>&quot;a42f947db7bd14e423a7dbfbb11596a1-4&quot;</ETag><Size>33155593</Size><StorageClass>STANDARD</StorageClass></Contents><Contents><Key>201310-citibike-tripdata.zip</Key><LastModified>2017-01-18T22:23:28.000Z</LastModified><ETag>&quot;ba688008fa403b0f2e45cfe6371ac941-4&quot;</ETag><Size>33065440</Size><StorageClass>STANDARD</StorageClass></Contents><Contents><Key>201311-citibike-tripdata.zip</Key><LastModified>2017-01-18T22:23:28.000Z</LastModified><ETag>&quot;e1e69bfad0580b095d4ebaa8367dbe55-3&quot;</ETag><Size>21618143</Size><StorageClass>STANDARD</StorageClass></Contents><Contents><Key>201312-citibike-tripdata.zip</Key><LastModified>2017-01-18T22:23:28.000Z</LastModified><ETag>&quot;534482d30a07443756b7581312f6c118-2&quot;</ETag><Size>14314784</Size><StorageClass>STANDARD</StorageClass></Contents><Contents><Key>201401-citibike-tripdata.zip</Key><LastModified>2017-01-18T22:23:29.000Z</LastModified><ETag>&quot;9374b1f510f67f63e118b15231a2fa1f-2&quot;</ETag><Size>9697309</Size><StorageClass>STANDARD</StorageClass></Contents><Contents><Key>201402-citibike-tripdata.zip</Key><LastModified>2017-01-18T22:23:29.000Z</LastModified><ETag>&quot;bfd6bff90e0b763e3232468d14cc8281&quot;</ETag><Size>7245963</Size><StorageClass>STANDARD</StorageClass></Contents><Contents><Key>201403-citibike-tripdata.zip</Key><LastModified>2017-01-18T22:23:29.000Z</LastModified><ETag>&quot;5d0d63fa680d3d3448a3733c7480d75f-2&quot;</ETag><Size>14132272</Size><StorageClass>STANDARD</StorageClass></Contents><Contents><Key>201404-citibike-tripdata.zip</Key><LastModified>2017-01-18T22:23:29.000Z</LastModified><ETag>&quot;781f3944db1967a377d0688c5ba9846a-3&quot;</ETag><Size>21414350</Size><StorageClass>STANDARD</StorageClass></Contents><Contents><Key>201405-citibike-tripdata.zip</Key><LastModified>2017-01-18T22:23:29.000Z</LastModified><ETag>&quot;e5201dec0b4e77a604a4576d361b22fb-4&quot;</ETag><Size>27591572</Size><StorageClass>STANDARD</StorageClass></Contents><Contents><Key>201406-citibike-tripdata.zip</Key><LastModified>2017-01-18T22:23:29.000Z</LastModified><ETag>&quot;fdfdee31d451fa457b241117aabff7e5-4&quot;</ETag><Size>29902186</Size><StorageClass>STANDARD</StorageClass></Contents><Contents><Key>201407-citibike-tripdata.zip</Key><LastModified>2017-01-18T22:23:30.000Z</LastModified><ETag>&quot;bf419e04dbf6f39cd4a9d10f8723dc92-4&quot;</ETag><Size>30893375</Size><StorageClass>STANDARD</StorageClass></Contents><Contents><Key>201408-citibike-tripdata.zip</Key><LastModified>2017-01-18T22:23:30.000Z</LastModified><ETag>&quot;08b8d0f36c0f6deedaef5555115fb166-4&quot;</ETag><Size>30625219</Size><StorageClass>STANDARD</StorageClass></Contents><Contents><Key>201409-citibike-tripdata.zip</Key><LastModified>2017-01-18T22:23:30.000Z</LastModified><ETag>&quot;134e1a7180da1b3ede44a31b93c8b88b-4&quot;</ETag><Size>30254719</Size><StorageClass>STANDARD</StorageClass></Contents><Contents><Key>201410-citibike-tripdata.zip</Key><LastModified>2017-01-18T22:23:30.000Z</LastModified><ETag>&quot;86f1717b8d57bb54d70cb9effb76847d-4&quot;</ETag><Size>26154448</Size><StorageClass>STANDARD</StorageClass></Contents><Contents><Key>201411-citibike-tripdata.zip</Key><LastModified>2017-01-18T22:23:31.000Z</LastModified><ETag>&quot;57a5ca4902bc6d9aa7eb9fa05c2012ac-3&quot;</ETag><Size>16825916</Size><StorageClass>STANDARD</StorageClass></Contents><Contents><Key>201412-citibike-tripdata.zip</Key><LastModified>2017-01-18T22:23:31.000Z</LastModified><ETag>&quot;03df0ec93b039f6d3ffeb7d6ca53912b-2&quot;</ETag><Size>12724321</Size><StorageClass>STANDARD</StorageClass></Contents><Contents><Key>201501-citibike-tripdata.zip</Key><LastModified>2017-01-18T22:23:31.000Z</LastModified><ETag>&quot;1eed6b2f2edbc910e250a9f643ec6cdd&quot;</ETag><Size>7009614</Size><StorageClass>STANDARD</StorageClass></Contents><Contents><Key>201502-citibike-tripdata.zip</Key><LastModified>2017-01-18T22:23:31.000Z</LastModified><ETag>&quot;52e8a74caf221b6880078b67b4416016&quot;</ETag><Size>4821145</Size><StorageClass>STANDARD</StorageClass></Contents><Contents><Key>201503-citibike-tripdata.zip</Key><LastModified>2017-01-18T22:23:31.000Z</LastModified><ETag>&quot;15c197a8174fcba3d2d0f7805530e1bf-2&quot;</ETag><Size>8418470</Size><StorageClass>STANDARD</StorageClass></Contents><Contents><Key>201504-citibike-tripdata.zip</Key><LastModified>2017-01-18T22:23:31.000Z</LastModified><ETag>&quot;b05f9f28f9fddb54797ee9ba747d8199-3&quot;</ETag><Size>20741670</Size><StorageClass>STANDARD</StorageClass></Contents><Contents><Key>201505-citibike-tripdata.zip</Key><LastModified>2017-01-18T22:23:32.000Z</LastModified><ETag>&quot;4c26fa7a783a091630e0b868d32877d6-4&quot;</ETag><Size>30344940</Size><StorageClass>STANDARD</StorageClass></Contents><Contents><Key>201506-citibike-tripdata.zip</Key><LastModified>2017-01-18T22:23:32.000Z</LastModified><ETag>&quot;da58a79cccdd1cde88040eb3b86813bb-3&quot;</ETag><Size>22888858</Size><StorageClass>STANDARD</StorageClass></Contents><Contents><Key>201507-citibike-tripdata.zip</Key><LastModified>2017-01-18T22:23:32.000Z</LastModified><ETag>&quot;43263c09d2cfb5f04814d3584b8ddf19-5&quot;</ETag><Size>34518665</Size><StorageClass>STANDARD</StorageClass></Contents><Contents><Key>201508-citibike-tripdata.zip</Key><LastModified>2017-01-18T22:23:33.000Z</LastModified><ETag>&quot;9f7c5f303b929aabcbb7d1a6b570730d-5&quot;</ETag><Size>38041594</Size><StorageClass>STANDARD</StorageClass></Contents><Contents><Key>201509-citibike-tripdata.zip</Key><LastModified>2017-01-18T22:23:33.000Z</LastModified><ETag>&quot;ddf49d81c04409ca97ffa6f94a820ee4-6&quot;</ETag><Size>43618303</Size><StorageClass>STANDARD</StorageClass></Contents><Contents><Key>201510-citibike-tripdata.zip</Key><LastModified>2017-01-18T22:23:34.000Z</LastModified><ETag>&quot;30f3bde775cdf2e4046db407b3a6ef7e-5&quot;</ETag><Size>41817833</Size><StorageClass>STANDARD</StorageClass></Contents><Contents><Key>201511-citibike-tripdata.zip</Key><LastModified>2017-01-18T22:23:34.000Z</LastModified><ETag>&quot;0ebee9695eeffbb380bbf3317c351723-5&quot;</ETag><Size>34354395</Size><StorageClass>STANDARD</StorageClass></Contents><Contents><Key>201512-citibike-tripdata.zip</Key><LastModified>2017-01-18T22:23:35.000Z</LastModified><ETag>&quot;c730c06cf892a9a03f5ea6ac795df245-3&quot;</ETag><Size>23145783</Size><StorageClass>STANDARD</StorageClass></Contents><Contents><Key>201601-citibike-tripdata.zip</Key><LastModified>2017-01-18T22:23:35.000Z</LastModified><ETag>&quot;5b358cae0d810c608f80d01ff78c924a-3&quot;</ETag><Size>17794115</Size><StorageClass>STANDARD</StorageClass></Contents><Contents><Key>201602-citibike-tripdata.zip</Key><LastModified>2017-01-18T22:23:35.000Z</LastModified><ETag>&quot;374964e8178459647434063a1795fd13-3&quot;</ETag><Size>19673400</Size><StorageClass>STANDARD</StorageClass></Contents><Contents><Key>201603-citibike-tripdata.zip</Key><LastModified>2017-01-18T22:23:36.000Z</LastModified><ETag>&quot;13fc1b0ff6e650f9df24884254b7427d-4&quot;</ETag><Size>26448564</Size><StorageClass>STANDARD</StorageClass></Contents><Contents><Key>201604-citibike-tripdata.zip</Key><LastModified>2017-01-18T22:23:36.000Z</LastModified><ETag>&quot;9c3455cc6ba242839a5718cac8b3bfa2-5&quot;</ETag><Size>35499519</Size><StorageClass>STANDARD</StorageClass></Contents><Contents><Key>201605-citibike-tripdata.zip</Key><LastModified>2017-01-18T22:23:36.000Z</LastModified><ETag>&quot;a67d8f63a4ef956714a686bf759040bd-6&quot;</ETag><Size>42455227</Size><StorageClass>STANDARD</StorageClass></Contents><Contents><Key>201606-citibike-tripdata.zip</Key><LastModified>2017-01-18T22:23:37.000Z</LastModified><ETag>&quot;31b14fa78c2591925b7b9d0d8d643f39-7&quot;</ETag><Size>51457520</Size><StorageClass>STANDARD</StorageClass></Contents><Contents><Key>201607-citibike-tripdata.zip</Key><LastModified>2017-01-18T22:23:38.000Z</LastModified><ETag>&quot;0d3af64944f9535abf396a96d5795147-6&quot;</ETag><Size>48814309</Size><StorageClass>STANDARD</StorageClass></Contents><Contents><Key>201608-citibike-tripdata.zip</Key><LastModified>2017-01-18T22:23:39.000Z</LastModified><ETag>&quot;dd0649256a52e2e4039cd494a52fff0f-7&quot;</ETag><Size>56054239</Size><StorageClass>STANDARD</StorageClass></Contents><Contents><Key>201609-citibike-tripdata.zip</Key><LastModified>2017-01-18T22:23:40.000Z</LastModified><ETag>&quot;4485c06095657f3ef7da0ff9302b5b19-8&quot;</ETag><Size>60817146</Size><StorageClass>STANDARD</StorageClass></Contents><Contents><Key>201610-citibike-tripdata.zip</Key><LastModified>2017-01-23T14:25:28.000Z</LastModified><ETag>&quot;a84bade59fd26ad49ef93af9ce2cd52a&quot;</ETag><Size>52917646</Size><StorageClass>STANDARD</StorageClass></Contents><Contents><Key>201611-citibike-tripdata.zip</Key><LastModified>2017-01-23T14:25:18.000Z</LastModified><ETag>&quot;880cfc30d95ba9525593375d38bf05a6&quot;</ETag><Size>40309396</Size><StorageClass>STANDARD</StorageClass></Contents><Contents><Key>201612-citibike-tripdata.zip</Key><LastModified>2017-01-23T14:25:24.000Z</LastModified><ETag>&quot;03e20a299cedb824da4ec06146b6bf03&quot;</ETag><Size>27546951</Size><StorageClass>STANDARD</StorageClass></Contents><Contents><Key>201701-citibike-tripdata.csv.zip</Key><LastModified>2017-04-06T21:01:05.000Z</LastModified><ETag>&quot;07f0bf735465bdcc98b88941695a5996-3&quot;</ETag><Size>24252143</Size><StorageClass>STANDARD</StorageClass></Contents><Contents><Key>201702-citibike-tripdata.csv.zip</Key><LastModified>2017-04-06T21:01:14.000Z</LastModified><ETag>&quot;ffe3cd2c33d82f96991eae69aef833a9-4&quot;</ETag><Size>26345821</Size><StorageClass>STANDARD</StorageClass></Contents><Contents><Key>201703-citibike-tripdata.csv.zip</Key><LastModified>2017-04-06T21:01:25.000Z</LastModified><ETag>&quot;212ccae72dff7fe43530c987e3d43050-3&quot;</ETag><Size>24167719</Size><StorageClass>STANDARD</StorageClass></Contents><Contents><Key>201704-citibike-tripdata.csv.zip</Key><LastModified>2017-08-01T16:16:58.000Z</LastModified><ETag>&quot;0c5a3de95ce45cc9d50fce5a6819dde1-6&quot;</ETag><Size>45080546</Size><StorageClass>STANDARD</StorageClass></Contents><Contents><Key>201705-citibike-tripdata.csv.zip</Key><LastModified>2017-08-01T16:17:14.000Z</LastModified><ETag>&quot;c8da677e23e7fd94fe4fdc8b79728a45-7&quot;</ETag><Size>52672403</Size><StorageClass>STANDARD</StorageClass></Contents><Contents><Key>201706-citibike-tripdata.csv.zip</Key><LastModified>2017-08-01T16:17:25.000Z</LastModified><ETag>&quot;50b163a2a764b416dc2ffbfe2a09607d-8&quot;</ETag><Size>60394834</Size><StorageClass>STANDARD</StorageClass></Contents><Contents><Key>201707-citibike-tripdata.csv.zip</Key><LastModified>2017-08-01T16:17:42.000Z</LastModified><ETag>&quot;74ffbf191c811d5805f0675d78375878-8&quot;</ETag><Size>60552358</Size><StorageClass>STANDARD</StorageClass></Contents><Contents><Key>201708-citibike-tripdata.csv.zip</Key><LastModified>2017-10-03T15:52:50.000Z</LastModified><ETag>&quot;a56eaefeea62ac85ef30485731e03161-4&quot;</ETag><Size>63277904</Size><StorageClass>STANDARD</StorageClass></Contents><Contents><Key>201709-citibike-tripdata.csv.zip</Key><LastModified>2017-10-03T15:52:58.000Z</LastModified><ETag>&quot;6e453ea73b4e068d9e50652a9ce80110-4&quot;</ETag><Size>65875226</Size><StorageClass>STANDARD</StorageClass></Contents><Contents><Key>201710-citibike-tripdata.csv.zip</Key><LastModified>2018-01-31T21:14:57.000Z</LastModified><ETag>&quot;7d399222cc1e0fc7eed2152cef0c70be-5&quot;</ETag><Size>67606081</Size><StorageClass>STANDARD</StorageClass></Contents><Contents><Key>201711-citibike-tripdata.csv.zip</Key><LastModified>2018-01-31T21:15:07.000Z</LastModified><ETag>&quot;4df818143c4e832c8067375cc2d5f346-3&quot;</ETag><Size>47767828</Size><StorageClass>STANDARD</StorageClass></Contents><Contents><Key>201712-citibike-tripdata.csv.zip</Key><LastModified>2018-01-31T21:15:13.000Z</LastModified><ETag>&quot;9be1866c1dd6dd0f88e7181964cea52d-2&quot;</ETag><Size>32096921</Size><StorageClass>STANDARD</StorageClass></Contents><Contents><Key>201801-citibike-tripdata.csv.zip</Key><LastModified>2018-09-06T18:44:00.000Z</LastModified><ETag>&quot;e82b7438b7057052afff71b3941e98b8-2&quot;</ETag><Size>23243282</Size><StorageClass>STANDARD</StorageClass></Contents><Contents><Key>201802-citibike-tripdata.csv.zip</Key><LastModified>2018-09-06T18:44:02.000Z</LastModified><ETag>&quot;e9b3c1de5effe60539a11e31438d5760-2&quot;</ETag><Size>27445342</Size><StorageClass>STANDARD</StorageClass></Contents><Contents><Key>201803-citibike-tripdata.csv.zip</Key><LastModified>2018-09-06T18:44:06.000Z</LastModified><ETag>&quot;58e1a32bf1c7da71d323871451464751-2&quot;</ETag><Size>31772071</Size><StorageClass>STANDARD</StorageClass></Contents><Contents><Key>201804-citibike-tripdata.csv.zip</Key><LastModified>2018-09-06T18:44:09.000Z</LastModified><ETag>&quot;4d2f0b19de8e06a35cb836e1549f94fd-3&quot;</ETag><Size>42777120</Size><StorageClass>STANDARD</StorageClass></Contents><Contents><Key>201805-citibike-tripdata.csv.zip</Key><LastModified>2018-09-06T18:44:14.000Z</LastModified><ETag>&quot;9fb1051c486c1ab71f8456bf06dee1e6-4&quot;</ETag><Size>60398070</Size><StorageClass>STANDARD</StorageClass></Contents><Contents><Key>201806-citibike-tripdata.csv.zip</Key><LastModified>2018-09-06T18:44:22.000Z</LastModified><ETag>&quot;c1e29d3ceec436f6022258ec148e0868-4&quot;</ETag><Size>64676423</Size><StorageClass>STANDARD</StorageClass></Contents><Contents><Key>201807-citibike-tripdata.csv.zip</Key><LastModified>2018-09-06T18:44:30.000Z</LastModified><ETag>&quot;e20638783252b55c824a6fd107e9e4a3-4&quot;</ETag><Size>63141848</Size><StorageClass>STANDARD</StorageClass></Contents><Contents><Key>201808-citibike-tripdata.csv.zip</Key><LastModified>2018-09-12T18:57:00.000Z</LastModified><ETag>&quot;75f3f724354d80bbc1df56a7b7027615-6&quot;</ETag><Size>84330202</Size><StorageClass>STANDARD</StorageClass></Contents><Contents><Key>201809-citibike-tripdata.csv.zip</Key><LastModified>2018-10-03T18:48:03.000Z</LastModified><ETag>&quot;33d763b77abaca376ec864cf72fd85b0-5&quot;</ETag><Size>80091394</Size><StorageClass>STANDARD</StorageClass></Contents><Contents><Key>201810-citibike-tripdata.csv.zip</Key><LastModified>2018-11-07T19:43:33.000Z</LastModified><ETag>&quot;6a47664959f92a7dc5c2fd3f3eeea032-5&quot;</ETag><Size>79982702</Size><StorageClass>STANDARD</StorageClass></Contents><Contents><Key>201811-citibike-tripdata.csv.zip</Key><LastModified>2018-12-04T16:27:25.000Z</LastModified><ETag>&quot;2ed5f0212ce2a21b2e85efcce8fc8dd6-7&quot;</ETag><Size>53731674</Size><StorageClass>STANDARD</StorageClass></Contents><Contents><Key>201812-citibike-tripdata.csv.zip</Key><LastModified>2019-01-08T20:51:08.000Z</LastModified><ETag>&quot;39ca7a69e73e64036301db8ea801059e-6&quot;</ETag><Size>43605212</Size><StorageClass>STANDARD</StorageClass></Contents><Contents><Key>201901-citibike-tripdata.csv.zip</Key><LastModified>2019-02-11T14:43:30.000Z</LastModified><ETag>&quot;2834834164e0f52c3841cc1b0f81ada9-5&quot;</ETag><Size>41467182</Size><StorageClass>STANDARD</StorageClass></Contents><Contents><Key>201902-citibike-tripdata.csv.zip</Key><LastModified>2019-03-04T16:21:38.000Z</LastModified><ETag>&quot;de3b0cc72158b1eb0048445dd3344c88-5&quot;</ETag><Size>40466165</Size><StorageClass>STANDARD</StorageClass></Contents><Contents><Key>201903-citibike-tripdata.csv.zip</Key><LastModified>2019-04-15T18:34:41.000Z</LastModified><ETag>&quot;8506f8fdb6db709de9fa5923f47ddd72-7&quot;</ETag><Size>57199131</Size><StorageClass>STANDARD</StorageClass></Contents><Contents><Key>201904-citibike-tripdata.csv.zip</Key><LastModified>2019-05-06T19:07:32.000Z</LastModified><ETag>&quot;58de1a81266f0635cc60bfcfd6506feb-9&quot;</ETag><Size>75703003</Size><StorageClass>STANDARD</StorageClass></Contents><Contents><Key>201905-citibike-tripdata.csv.zip</Key><LastModified>2019-06-11T19:37:54.000Z</LastModified><ETag>&quot;0552361e26e8fa6cb34780bb6b517588-10&quot;</ETag><Size>82176801</Size><StorageClass>STANDARD</StorageClass></Contents><Contents><Key>201906-citibike-tripdata.csv.zip</Key><LastModified>2019-07-15T17:42:08.000Z</LastModified><ETag>&quot;4b9c70d4a34e075fe6f6e30b1f5c6827-6&quot;</ETag><Size>91078031</Size><StorageClass>STANDARD</StorageClass></Contents><Contents><Key>201907-citibike-tripdata.csv.zip</Key><LastModified>2019-08-05T21:34:01.000Z</LastModified><ETag>&quot;9eaf6d25e73508815c08bd0d09661385-6&quot;</ETag><Size>93359147</Size><StorageClass>STANDARD</StorageClass></Contents><Contents><Key>201908-citibike-tripdata.csv.zip</Key><LastModified>2019-09-18T20:33:14.000Z</LastModified><ETag>&quot;6c63755f110671e477130c86c81c4f8f-6&quot;</ETag><Size>100021943</Size><StorageClass>STANDARD</StorageClass></Contents><Contents><Key>201909-citibike-tripdata.csv.zip</Key><LastModified>2019-10-11T19:42:04.000Z</LastModified><ETag>&quot;6a359e103229b5fc639df4288333955e-7&quot;</ETag><Size>104185546</Size><StorageClass>STANDARD</StorageClass></Contents><Contents><Key>201910-citibike-tripdata.csv.zip</Key><LastModified>2019-11-05T22:10:55.000Z</LastModified><ETag>&quot;4a7316be1333adc40d6e2f4d62c9398b-6&quot;</ETag><Size>89195648</Size><StorageClass>STANDARD</StorageClass></Contents><Contents><Key>201911-citibike-tripdata.csv.zip</Key><LastModified>2019-12-20T18:44:54.000Z</LastModified><ETag>&quot;cf2ceba8040d51832f25c701165af044-4&quot;</ETag><Size>63195929</Size><StorageClass>STANDARD</StorageClass></Contents><Contents><Key>201912-citibike-tripdata.csv.zip</Key><LastModified>2020-01-21T21:23:32.000Z</LastModified><ETag>&quot;706907c268fcf83a0779b3de1fe5536a-3&quot;</ETag><Size>41083888</Size><StorageClass>STANDARD</StorageClass></Contents><Contents><Key>202001-citibike-tripdata.csv.zip</Key><LastModified>2020-02-04T19:05:46.000Z</LastModified><ETag>&quot;18e2f76d448079849c7461b7145597ee-4&quot;</ETag><Size>53473358</Size><StorageClass>STANDARD</StorageClass></Contents><Contents><Key>202002-citibike-tripdata.csv.zip</Key><LastModified>2020-03-24T20:07:44.000Z</LastModified><ETag>&quot;292e9bf75561d1936a8ddedebabd0907-3&quot;</ETag><Size>49514434</Size><StorageClass>STANDARD</StorageClass></Contents><Contents><Key>202003-citibike-tripdata.csv.zip</Key><LastModified>2020-04-17T23:58:01.000Z</LastModified><ETag>&quot;0ea9dc0fb3226200da261ca43b8687d5-3&quot;</ETag><Size>46657798</Size><StorageClass>STANDARD</StorageClass></Contents><Contents><Key>202004-citibike-tripdata.csv.zip</Key><LastModified>2020-05-27T00:18:14.000Z</LastModified><ETag>&quot;965c659721b49ed4559a28b79b51d1a9-2&quot;</ETag><Size>30120835</Size><StorageClass>STANDARD</StorageClass></Contents><Contents><Key>202005-citibike-tripdata.csv.zip</Key><LastModified>2020-06-05T16:09:37.000Z</LastModified><ETag>&quot;650abda0a8e62b265bc960a7daf19410-4&quot;</ETag><Size>65378700</Size><StorageClass>STANDARD</StorageClass></Contents><Contents><Key>202006-citibike-tripdata.csv.zip</Key><LastModified>2020-07-06T00:37:43.000Z</LastModified><ETag>&quot;a2750991bca1b0bd6aa3ecc185ecfefe-5&quot;</ETag><Size>83399305</Size><StorageClass>STANDARD</StorageClass></Contents><Contents><Key>202007-citibike-tripdata.csv.zip</Key><LastModified>2020-08-12T02:13:25.000Z</LastModified><ETag>&quot;e20dea3a394088fed3b9ba33d30dc756-6&quot;</ETag><Size>94091098</Size><StorageClass>STANDARD</StorageClass></Contents><Contents><Key>202008-citibike-tripdata.csv.zip</Key><LastModified>2020-09-04T19:37:28.000Z</LastModified><ETag>&quot;b95ad35f4aba6e7aff2f15e7a06c65f3-7&quot;</ETag><Size>104256804</Size><StorageClass>STANDARD</StorageClass></Contents><Contents><Key>202009-citibike-tripdata.csv.zip</Key><LastModified>2020-10-13T19:55:55.000Z</LastModified><ETag>&quot;8eb9cb0b22b688d689cb2d0df1a513de-7&quot;</ETag><Size>111931985</Size><StorageClass>STANDARD</StorageClass></Contents><Contents><Key>202010-citibike-tripdata.csv.zip</Key><LastModified>2020-11-04T14:51:10.000Z</LastModified><ETag>&quot;1984649779c289f31e90a9cac42aab5d-6&quot;</ETag><Size>101843579</Size><StorageClass>STANDARD</StorageClass></Contents><Contents><Key>202011-citibike-tripdata.csv.zip</Key><LastModified>2020-12-04T23:26:03.000Z</LastModified><ETag>&quot;e232da26873706f68ab66de8cea01f18-5&quot;</ETag><Size>78691946</Size><StorageClass>STANDARD</StorageClass></Contents><Contents><Key>202012-citibike-tripdata.csv.zip</Key><LastModified>2021-01-05T14:25:44.000Z</LastModified><ETag>&quot;05a785d765fd866f4962c57cd01b74d0-3&quot;</ETag><Size>49547377</Size><StorageClass>STANDARD</StorageClass></Contents><Contents><Key>202101-citibike-tripdata.csv.zip</Key><LastModified>2021-02-08T15:11:26.000Z</LastModified><ETag>&quot;d14e4c41cfb30847f3c86b01aa6096a2-3&quot;</ETag><Size>50120830</Size><StorageClass>STANDARD</StorageClass></Contents><Contents><Key>JC-201509-citibike-tripdata.csv.zip</Key><LastModified>2017-04-06T21:01:34.000Z</LastModified><ETag>&quot;857f36b80cde633c2dab5d8f7485b4f1&quot;</ETag><Size>127657</Size><StorageClass>STANDARD</StorageClass></Contents><Contents><Key>JC-201510-citibike-tripdata.csv.zip</Key><LastModified>2017-04-06T21:01:35.000Z</LastModified><ETag>&quot;f0f80e2462bcb30aed2c3d13203b2047&quot;</ETag><Size>366062</Size><StorageClass>STANDARD</StorageClass></Contents><Contents><Key>JC-201511-citibike-tripdata.csv.zip</Key><LastModified>2017-04-06T21:01:37.000Z</LastModified><ETag>&quot;35dc13c5825bec76abc928cc669329ad&quot;</ETag><Size>288054</Size><StorageClass>STANDARD</StorageClass></Contents><Contents><Key>JC-201512-citibike-tripdata.csv.zip</Key><LastModified>2017-04-06T21:01:38.000Z</LastModified><ETag>&quot;6ceb3e880db303d525877cc2abff5b75&quot;</ETag><Size>227741</Size><StorageClass>STANDARD</StorageClass></Contents><Contents><Key>JC-201601-citibike-tripdata.csv.zip</Key><LastModified>2017-04-06T21:01:38.000Z</LastModified><ETag>&quot;4d1b862592ddbc8c73af1166d24df971&quot;</ETag><Size>144314</Size><StorageClass>STANDARD</StorageClass></Contents><Contents><Key>JC-201602-citibike-tripdata.csv.zip</Key><LastModified>2017-04-06T21:01:38.000Z</LastModified><ETag>&quot;f348433da2c7ecb9c3728230efb9bbb7&quot;</ETag><Size>159787</Size><StorageClass>STANDARD</StorageClass></Contents><Contents><Key>JC-201603-citibike-tripdata.csv.zip</Key><LastModified>2017-04-06T21:01:39.000Z</LastModified><ETag>&quot;2c7aad6a59d31fa56951b80417131748&quot;</ETag><Size>259577</Size><StorageClass>STANDARD</StorageClass></Contents><Contents><Key>JC-201604-citibike-tripdata.csv.zip</Key><LastModified>2017-04-06T21:01:39.000Z</LastModified><ETag>&quot;f158870fad2a154690394553d20037ec&quot;</ETag><Size>311199</Size><StorageClass>STANDARD</StorageClass></Contents><Contents><Key>JC-201605-citibike-tripdata.csv.zip</Key><LastModified>2017-04-06T21:01:40.000Z</LastModified><ETag>&quot;8dec52dc3ba61b9d19861ede6a9e81cb&quot;</ETag><Size>369535</Size><StorageClass>STANDARD</StorageClass></Contents><Contents><Key>JC-201606-citibike-tripdata.csv.zip</Key><LastModified>2017-04-06T21:01:40.000Z</LastModified><ETag>&quot;46fcef1816baefcf001d8becf0d845e7&quot;</ETag><Size>452907</Size><StorageClass>STANDARD</StorageClass></Contents><Contents><Key>JC-201607-citibike-tripdata.csv.zip</Key><LastModified>2017-04-06T21:01:41.000Z</LastModified><ETag>&quot;f9916a0482e1e9fec479f002b7ff6629&quot;</ETag><Size>465773</Size><StorageClass>STANDARD</StorageClass></Contents><Contents><Key>JC-201608-citibike-tripdata.csv.zip</Key><LastModified>2017-04-06T21:01:41.000Z</LastModified><ETag>&quot;8d39f010fd0442c60ea96eb684701b7a&quot;</ETag><Size>666337</Size><StorageClass>STANDARD</StorageClass></Contents><Contents><Key>JC-201609-citibike-tripdata.csv.zip</Key><LastModified>2017-04-06T21:01:42.000Z</LastModified><ETag>&quot;5b09bea854ab2d6bcedf86e38385a76e&quot;</ETag><Size>652630</Size><StorageClass>STANDARD</StorageClass></Contents><Contents><Key>JC-201610-citibike-tripdata.csv.zip</Key><LastModified>2017-04-06T21:01:42.000Z</LastModified><ETag>&quot;9f85aa7b937d472fbce0548183bdc120&quot;</ETag><Size>581361</Size><StorageClass>STANDARD</StorageClass></Contents><Contents><Key>JC-201611-citibike-tripdata.csv.zip</Key><LastModified>2017-04-06T21:01:43.000Z</LastModified><ETag>&quot;a57d34785c989b88c3de53a9b173541d&quot;</ETag><Size>434377</Size><StorageClass>STANDARD</StorageClass></Contents><Contents><Key>JC-201612-citibike-tripdata.csv.zip</Key><LastModified>2017-04-06T21:01:43.000Z</LastModified><ETag>&quot;5e5420dbbde9bff736c43e755a9a0fc4&quot;</ETag><Size>304997</Size><StorageClass>STANDARD</StorageClass></Contents><Contents><Key>JC-201701-citibike-tripdata.csv.zip</Key><LastModified>2017-04-06T21:01:43.000Z</LastModified><ETag>&quot;154e45cac095ee5e2a6b2ca78c335a99&quot;</ETag><Size>260769</Size><StorageClass>STANDARD</StorageClass></Contents><Contents><Key>JC-201702-citibike-tripdata.csv.zip</Key><LastModified>2017-04-06T21:01:44.000Z</LastModified><ETag>&quot;4d63b31d2d92a5c6b60bc5d79cadb6f6&quot;</ETag><Size>281945</Size><StorageClass>STANDARD</StorageClass></Contents><Contents><Key>JC-201703-citibike-tripdata.csv.zip</Key><LastModified>2017-04-06T21:01:44.000Z</LastModified><ETag>&quot;eb9b695532fa446fc70a5c5c35a122a8&quot;</ETag><Size>246627</Size><StorageClass>STANDARD</StorageClass></Contents><Contents><Key>JC-201704-citibike-tripdata.csv.zip</Key><LastModified>2017-08-01T16:20:54.000Z</LastModified><ETag>&quot;6a08beb15c4cec87becf5f7bf381c216&quot;</ETag><Size>442528</Size><StorageClass>STANDARD</StorageClass></Contents><Contents><Key>JC-201705-citibike-tripdata.csv.zip</Key><LastModified>2017-08-01T16:20:55.000Z</LastModified><ETag>&quot;d6ab53a4475364a23413a07901888bcb&quot;</ETag><Size>541466</Size><StorageClass>STANDARD</StorageClass></Contents><Contents><Key>JC-201706-citibike-tripdata.csv.zip</Key><LastModified>2017-08-01T16:20:56.000Z</LastModified><ETag>&quot;47126b22da448fe4a54315763dfe53cb&quot;</ETag><Size>662240</Size><StorageClass>STANDARD</StorageClass></Contents><Contents><Key>JC-201707-citibike-tripdata.csv.zip</Key><LastModified>2017-08-01T16:20:57.000Z</LastModified><ETag>&quot;2ed44308399d4f88dc03875880e46dd8&quot;</ETag><Size>692715</Size><StorageClass>STANDARD</StorageClass></Contents><Contents><Key>JC-201708 citibike-tripdata.csv.zip</Key><LastModified>2017-10-03T15:52:49.000Z</LastModified><ETag>&quot;01266afee17f7f69cb2ff83bccd83bda&quot;</ETag><Size>727994</Size><StorageClass>STANDARD</StorageClass></Contents><Contents><Key>JC-201709-citibike-tripdata.csv.zip</Key><LastModified>2017-10-03T15:52:49.000Z</LastModified><ETag>&quot;e79ddb4fcc2d9eb50b9b2d26ab8905b4&quot;</ETag><Size>683286</Size><StorageClass>STANDARD</StorageClass></Contents><Contents><Key>JC-201710-citibike-tripdata.csv.zip</Key><LastModified>2018-01-31T21:15:18.000Z</LastModified><ETag>&quot;a307814b20dd3382473e4a7b1658e308&quot;</ETag><Size>720077</Size><StorageClass>STANDARD</StorageClass></Contents><Contents><Key>JC-201711-citibike-tripdata.csv.zip</Key><LastModified>2018-01-31T21:15:19.000Z</LastModified><ETag>&quot;f89c3a52e4572339c4a57c361bebd5e5&quot;</ETag><Size>488743</Size><StorageClass>STANDARD</StorageClass></Contents><Contents><Key>JC-201712-citibike-tripdata.csv.zip</Key><LastModified>2018-01-31T21:15:19.000Z</LastModified><ETag>&quot;31c75e2eaf297f5c2ec907da6eca4b72&quot;</ETag><Size>331501</Size><StorageClass>STANDARD</StorageClass></Contents><Contents><Key>JC-201801-citibike-tripdata.csv.zip</Key><LastModified>2018-09-06T18:44:38.000Z</LastModified><ETag>&quot;fdc9be581c57ffd3735b6b2a73a95716&quot;</ETag><Size>335740</Size><StorageClass>STANDARD</StorageClass></Contents><Contents><Key>JC-201802-citibike-tripdata.csv.zip</Key><LastModified>2018-09-06T18:44:38.000Z</LastModified><ETag>&quot;c6c4d02299ebe35450b55ba6a20d0042&quot;</ETag><Size>397953</Size><StorageClass>STANDARD</StorageClass></Contents><Contents><Key>JC-201803-citibike-tripdata.csv.zip</Key><LastModified>2018-09-06T18:44:39.000Z</LastModified><ETag>&quot;92ce13052e8d0c883c9744bfdfd0830f&quot;</ETag><Size>453590</Size><StorageClass>STANDARD</StorageClass></Contents><Contents><Key>JC-201804-citibike-tripdata.csv.zip</Key><LastModified>2018-09-06T18:44:39.000Z</LastModified><ETag>&quot;cd39b12d96bb903e7f0ac7448bab4370&quot;</ETag><Size>628954</Size><StorageClass>STANDARD</StorageClass></Contents><Contents><Key>JC-201805-citibike-tripdata.csv.zip</Key><LastModified>2018-09-06T18:44:40.000Z</LastModified><ETag>&quot;f0efb047f0789d35fa8d236798b887e9&quot;</ETag><Size>909305</Size><StorageClass>STANDARD</StorageClass></Contents><Contents><Key>JC-201806-citibike-tripdata.csv.zip</Key><LastModified>2018-09-06T18:44:40.000Z</LastModified><ETag>&quot;4d26be7f21f47065b3a97036ecb458f0&quot;</ETag><Size>1078776</Size><StorageClass>STANDARD</StorageClass></Contents><Contents><Key>JC-201807-citibike-tripdata.csv.zip</Key><LastModified>2018-09-06T18:44:41.000Z</LastModified><ETag>&quot;7d7f4d25a93a7fce663966d8fedb2332&quot;</ETag><Size>1114006</Size><StorageClass>STANDARD</StorageClass></Contents><Contents><Key>JC-201808-citibike-tripdata.csv.zip</Key><LastModified>2018-09-12T18:58:07.000Z</LastModified><ETag>&quot;324eecfa22ddf286719a3df242b89034&quot;</ETag><Size>1165898</Size><StorageClass>STANDARD</StorageClass></Contents><Contents><Key>JC-201809-citibike-tripdata.csv.zip</Key><LastModified>2018-10-03T18:48:13.000Z</LastModified><ETag>&quot;ed0ddf8ec6aa8bd2d569dc2c148e6517&quot;</ETag><Size>1029196</Size><StorageClass>STANDARD</StorageClass></Contents><Contents><Key>JC-201810-citibike-tripdata.csv.zip</Key><LastModified>2018-11-07T19:44:39.000Z</LastModified><ETag>&quot;eb9856ac4bf76b98f29710982384d482&quot;</ETag><Size>1025727</Size><StorageClass>STANDARD</StorageClass></Contents><Contents><Key>JC-201811-citibike-tripdata.csv.zip</Key><LastModified>2018-12-04T16:27:38.000Z</LastModified><ETag>&quot;0ade6c97e94ea6cfdcfad6af03392dc0&quot;</ETag><Size>655752</Size><StorageClass>STANDARD</StorageClass></Contents><Contents><Key>JC-201812-citibike-tripdata.csv.zip</Key><LastModified>2019-01-08T20:51:15.000Z</LastModified><ETag>&quot;3d4fbbfb80eaf845ced4384de8712765&quot;</ETag><Size>533878</Size><StorageClass>STANDARD</StorageClass></Contents><Contents><Key>JC-201901-citibike-tripdata.csv.zip</Key><LastModified>2019-02-11T14:43:41.000Z</LastModified><ETag>&quot;47cca6aac88569850708f5e34edd1c14&quot;</ETag><Size>517665</Size><StorageClass>STANDARD</StorageClass></Contents><Contents><Key>JC-201902-citibike-tripdata.csv.zip</Key><LastModified>2019-03-04T16:21:48.000Z</LastModified><ETag>&quot;3847a7474d6d6ec49d79cd056c6208f8&quot;</ETag><Size>491166</Size><StorageClass>STANDARD</StorageClass></Contents><Contents><Key>JC-201903-citibike-tripdata.csv.zip</Key><LastModified>2019-04-15T18:34:52.000Z</LastModified><ETag>&quot;02ddb9c67cbbc383c99d33e02398f956&quot;</ETag><Size>623509</Size><StorageClass>STANDARD</StorageClass></Contents><Contents><Key>JC-201904-citibike-tripdata.csv.zip</Key><LastModified>2019-05-06T19:07:33.000Z</LastModified><ETag>&quot;c6a586a126bcac25d37b8c44bdf0900d&quot;</ETag><Size>867370</Size><StorageClass>STANDARD</StorageClass></Contents><Contents><Key>JC-201905-citibike-tripdata.csv.zip</Key><LastModified>2019-06-11T19:37:55.000Z</LastModified><ETag>&quot;b2f4e51cf2f5d7447c937d7bedcabe24&quot;</ETag><Size>931693</Size><StorageClass>STANDARD</StorageClass></Contents><Contents><Key>JC-201906-citibike-tripdata.csv.zip</Key><LastModified>2019-07-15T17:42:09.000Z</LastModified><ETag>&quot;0d353eb29eedd5eee1cdc0bb840f7284&quot;</ETag><Size>1018935</Size><StorageClass>STANDARD</StorageClass></Contents><Contents><Key>JC-201907-citibike-tripdata.csv.zip</Key><LastModified>2019-08-05T21:34:01.000Z</LastModified><ETag>&quot;f7c47b623c12a7cc4ca5b88a9d228f5a&quot;</ETag><Size>1131502</Size><StorageClass>STANDARD</StorageClass></Contents><Contents><Key>JC-201908-citibike-tripdata.csv.zip</Key><LastModified>2019-09-18T20:33:15.000Z</LastModified><ETag>&quot;0178fa80feb8249070433a47723490f3&quot;</ETag><Size>1258122</Size><StorageClass>STANDARD</StorageClass></Contents><Contents><Key>JC-201909-citibike-tripdata.csv.zip</Key><LastModified>2019-10-11T19:42:04.000Z</LastModified><ETag>&quot;6a2951303488759d3cb9c9c9b69a43ac&quot;</ETag><Size>1271064</Size><StorageClass>STANDARD</StorageClass></Contents><Contents><Key>JC-201910-citibike-tripdata.csv.zip</Key><LastModified>2019-11-05T22:10:56.000Z</LastModified><ETag>&quot;2c82b76904c2a1e07ec0cb1457097753&quot;</ETag><Size>1091154</Size><StorageClass>STANDARD</StorageClass></Contents><Contents><Key>JC-201911-citibike-tripdata.csv.zip</Key><LastModified>2019-12-20T18:44:56.000Z</LastModified><ETag>&quot;cd216a574db2d2d145147a89a8c6235d&quot;</ETag><Size>799781</Size><StorageClass>STANDARD</StorageClass></Contents><Contents><Key>JC-201912-citibike-tripdata.csv.zip</Key><LastModified>2020-01-21T21:23:33.000Z</LastModified><ETag>&quot;4dc7a63c0eac3f12210de53a6a30ea79&quot;</ETag><Size>517583</Size><StorageClass>STANDARD</StorageClass></Contents><Contents><Key>JC-202001-citibike-tripdata.csv.zip</Key><LastModified>2020-02-04T19:05:47.000Z</LastModified><ETag>&quot;4a58b007c81a1843a03e0b18a63d3f42&quot;</ETag><Size>679086</Size><StorageClass>STANDARD</StorageClass></Contents><Contents><Key>JC-202002-citibike-tripdata.csv.zip</Key><LastModified>2020-03-24T20:07:53.000Z</LastModified><ETag>&quot;8ef84102acf2b355f7457c1aa374b7cf&quot;</ETag><Size>599276</Size><StorageClass>STANDARD</StorageClass></Contents><Contents><Key>JC-202003-citibike-tripdata.csv.zip</Key><LastModified>2020-04-17T23:58:04.000Z</LastModified><ETag>&quot;f93a1b4734de9a6e5e422ce8b2fe7419&quot;</ETag><Size>465329</Size><StorageClass>STANDARD</StorageClass></Contents><Contents><Key>JC-202004-citibike-tripdata.csv.zip</Key><LastModified>2020-05-27T00:18:16.000Z</LastModified><ETag>&quot;e12fe9d5ba889aa2d891347f80e62be3&quot;</ETag><Size>246177</Size><StorageClass>STANDARD</StorageClass></Contents><Contents><Key>JC-202005-citibike-tripdata.csv.zip</Key><LastModified>2020-06-05T16:09:40.000Z</LastModified><ETag>&quot;a8a53f2ae57b29a9fe287a7e666a8c74&quot;</ETag><Size>655725</Size><StorageClass>STANDARD</StorageClass></Contents><Contents><Key>JC-202006-citibike-tripdata.csv.zip</Key><LastModified>2020-07-06T00:37:53.000Z</LastModified><ETag>&quot;ebaaa7c1eb9467d04a7748feb6fc4f5b&quot;</ETag><Size>968484</Size><StorageClass>STANDARD</StorageClass></Contents><Contents><Key>JC-202007-citibike-tripdata.csv.zip</Key><LastModified>2020-08-12T02:13:32.000Z</LastModified><ETag>&quot;4519a964d5b66156f9e661b7e78906ac&quot;</ETag><Size>1017946</Size><StorageClass>STANDARD</StorageClass></Contents><Contents><Key>JC-202008-citibike-tripdata.csv.zip</Key><LastModified>2020-09-04T19:37:33.000Z</LastModified><ETag>&quot;bc110ea6ded190e5625213e05dce31fb&quot;</ETag><Size>1137151</Size><StorageClass>STANDARD</StorageClass></Contents><Contents><Key>JC-202009-citibike-tripdata.csv.zip</Key><LastModified>2020-10-13T19:56:03.000Z</LastModified><ETag>&quot;f818f87d1b8357d8755b610ea231aeef&quot;</ETag><Size>1419708</Size><StorageClass>STANDARD</StorageClass></Contents><Contents><Key>JC-202010-citibike-tripdata.csv.zip</Key><LastModified>2020-11-04T14:51:11.000Z</LastModified><ETag>&quot;148431d3598f7e962338c33da2afddf3&quot;</ETag><Size>798066</Size><StorageClass>STANDARD</StorageClass></Contents><Contents><Key>JC-202011-citibike-tripdata.csv.zip</Key><LastModified>2020-12-04T23:26:04.000Z</LastModified><ETag>&quot;ab9ee4bbbc03633d610e18319d23fc21&quot;</ETag><Size>569245</Size><StorageClass>STANDARD</StorageClass></Contents><Contents><Key>JC-202012-citibike-tripdata.csv.zip</Key><LastModified>2021-01-05T14:25:45.000Z</LastModified><ETag>&quot;112033c48cf3fa673b396364a7cc08f6&quot;</ETag><Size>315012</Size><StorageClass>STANDARD</StorageClass></Contents><Contents><Key>JC-202101-citibike-tripdata.csv.zip</Key><LastModified>2021-02-08T15:11:26.000Z</LastModified><ETag>&quot;02e5da50db92added528f438587bb1e7&quot;</ETag><Size>313806</Size><StorageClass>STANDARD</StorageClass></Contents><Contents><Key>index.html</Key><LastModified>2017-01-18T22:23:41.000Z</LastModified><ETag>&quot;0a0a71d28229db9a3ddd27b9c9ca1f10&quot;</ETag><Size>6430</Size><StorageClass>STANDARD</StorageClass></Contents></ListBucketResult>'"
      ]
     },
     "execution_count": 67,
     "metadata": {},
     "output_type": "execute_result"
    }
   ],
   "source": [
    "r2.text"
   ]
  },
  {
   "cell_type": "code",
   "execution_count": 92,
   "id": "worldwide-aurora",
   "metadata": {},
   "outputs": [
    {
     "name": "stdout",
     "output_type": "stream",
     "text": [
      "201306-citibike-tripdata.zip\n",
      "201307-201402-citibike-tripdata.zip\n",
      "201307-citibike-tripdata.zip\n",
      "201308-citibike-tripdata.zip\n",
      "201309-citibike-tripdata.zip\n",
      "201310-citibike-tripdata.zip\n",
      "201311-citibike-tripdata.zip\n",
      "201312-citibike-tripdata.zip\n",
      "201401-citibike-tripdata.zip\n",
      "201402-citibike-tripdata.zip\n",
      "201403-citibike-tripdata.zip\n",
      "201404-citibike-tripdata.zip\n",
      "201405-citibike-tripdata.zip\n",
      "201406-citibike-tripdata.zip\n",
      "201407-citibike-tripdata.zip\n",
      "201408-citibike-tripdata.zip\n",
      "201409-citibike-tripdata.zip\n",
      "201410-citibike-tripdata.zip\n",
      "201411-citibike-tripdata.zip\n",
      "201412-citibike-tripdata.zip\n",
      "201501-citibike-tripdata.zip\n",
      "201502-citibike-tripdata.zip\n",
      "201503-citibike-tripdata.zip\n",
      "201504-citibike-tripdata.zip\n",
      "201505-citibike-tripdata.zip\n",
      "201506-citibike-tripdata.zip\n",
      "201507-citibike-tripdata.zip\n",
      "201508-citibike-tripdata.zip\n",
      "201509-citibike-tripdata.zip\n",
      "201510-citibike-tripdata.zip\n",
      "201511-citibike-tripdata.zip\n",
      "201512-citibike-tripdata.zip\n",
      "201601-citibike-tripdata.zip\n",
      "201602-citibike-tripdata.zip\n",
      "201603-citibike-tripdata.zip\n",
      "201604-citibike-tripdata.zip\n",
      "201605-citibike-tripdata.zip\n",
      "201606-citibike-tripdata.zip\n",
      "201607-citibike-tripdata.zip\n",
      "201608-citibike-tripdata.zip\n",
      "201609-citibike-tripdata.zip\n",
      "201610-citibike-tripdata.zip\n",
      "201611-citibike-tripdata.zip\n",
      "201612-citibike-tripdata.zip\n",
      "201701-citibike-tripdata.csv.zip\n",
      "201702-citibike-tripdata.csv.zip\n",
      "201703-citibike-tripdata.csv.zip\n",
      "201704-citibike-tripdata.csv.zip\n",
      "201705-citibike-tripdata.csv.zip\n",
      "201706-citibike-tripdata.csv.zip\n",
      "201707-citibike-tripdata.csv.zip\n",
      "201708-citibike-tripdata.csv.zip\n",
      "201709-citibike-tripdata.csv.zip\n",
      "201710-citibike-tripdata.csv.zip\n",
      "201711-citibike-tripdata.csv.zip\n",
      "201712-citibike-tripdata.csv.zip\n",
      "201801-citibike-tripdata.csv.zip\n",
      "201802-citibike-tripdata.csv.zip\n",
      "201803-citibike-tripdata.csv.zip\n",
      "201804-citibike-tripdata.csv.zip\n",
      "201805-citibike-tripdata.csv.zip\n",
      "201806-citibike-tripdata.csv.zip\n",
      "201807-citibike-tripdata.csv.zip\n",
      "201808-citibike-tripdata.csv.zip\n",
      "201809-citibike-tripdata.csv.zip\n",
      "201810-citibike-tripdata.csv.zip\n",
      "201811-citibike-tripdata.csv.zip\n",
      "201812-citibike-tripdata.csv.zip\n",
      "201901-citibike-tripdata.csv.zip\n",
      "201902-citibike-tripdata.csv.zip\n",
      "201903-citibike-tripdata.csv.zip\n",
      "201904-citibike-tripdata.csv.zip\n",
      "201905-citibike-tripdata.csv.zip\n",
      "201906-citibike-tripdata.csv.zip\n",
      "201907-citibike-tripdata.csv.zip\n",
      "201908-citibike-tripdata.csv.zip\n",
      "201909-citibike-tripdata.csv.zip\n",
      "201910-citibike-tripdata.csv.zip\n",
      "201911-citibike-tripdata.csv.zip\n",
      "201912-citibike-tripdata.csv.zip\n",
      "202001-citibike-tripdata.csv.zip\n",
      "202002-citibike-tripdata.csv.zip\n",
      "202003-citibike-tripdata.csv.zip\n",
      "202004-citibike-tripdata.csv.zip\n",
      "202005-citibike-tripdata.csv.zip\n",
      "202006-citibike-tripdata.csv.zip\n",
      "202007-citibike-tripdata.csv.zip\n",
      "202008-citibike-tripdata.csv.zip\n",
      "202009-citibike-tripdata.csv.zip\n",
      "202010-citibike-tripdata.csv.zip\n",
      "202011-citibike-tripdata.csv.zip\n",
      "202012-citibike-tripdata.csv.zip\n",
      "202101-citibike-tripdata.csv.zip\n",
      "JC-201509-citibike-tripdata.csv.zip\n",
      "JC-201510-citibike-tripdata.csv.zip\n",
      "JC-201511-citibike-tripdata.csv.zip\n",
      "JC-201512-citibike-tripdata.csv.zip\n",
      "JC-201601-citibike-tripdata.csv.zip\n",
      "JC-201602-citibike-tripdata.csv.zip\n",
      "JC-201603-citibike-tripdata.csv.zip\n",
      "JC-201604-citibike-tripdata.csv.zip\n",
      "JC-201605-citibike-tripdata.csv.zip\n",
      "JC-201606-citibike-tripdata.csv.zip\n",
      "JC-201607-citibike-tripdata.csv.zip\n",
      "JC-201608-citibike-tripdata.csv.zip\n",
      "JC-201609-citibike-tripdata.csv.zip\n",
      "JC-201610-citibike-tripdata.csv.zip\n",
      "JC-201611-citibike-tripdata.csv.zip\n",
      "JC-201612-citibike-tripdata.csv.zip\n",
      "JC-201701-citibike-tripdata.csv.zip\n",
      "JC-201702-citibike-tripdata.csv.zip\n",
      "JC-201703-citibike-tripdata.csv.zip\n",
      "JC-201704-citibike-tripdata.csv.zip\n",
      "JC-201705-citibike-tripdata.csv.zip\n",
      "JC-201706-citibike-tripdata.csv.zip\n",
      "JC-201707-citibike-tripdata.csv.zip\n",
      "JC-201708 citibike-tripdata.csv.zip\n",
      "JC-201709-citibike-tripdata.csv.zip\n",
      "JC-201710-citibike-tripdata.csv.zip\n",
      "JC-201711-citibike-tripdata.csv.zip\n",
      "JC-201712-citibike-tripdata.csv.zip\n",
      "JC-201801-citibike-tripdata.csv.zip\n",
      "JC-201802-citibike-tripdata.csv.zip\n",
      "JC-201803-citibike-tripdata.csv.zip\n",
      "JC-201804-citibike-tripdata.csv.zip\n",
      "JC-201805-citibike-tripdata.csv.zip\n",
      "JC-201806-citibike-tripdata.csv.zip\n",
      "JC-201807-citibike-tripdata.csv.zip\n",
      "JC-201808-citibike-tripdata.csv.zip\n",
      "JC-201809-citibike-tripdata.csv.zip\n",
      "JC-201810-citibike-tripdata.csv.zip\n",
      "JC-201811-citibike-tripdata.csv.zip\n",
      "JC-201812-citibike-tripdata.csv.zip\n",
      "JC-201901-citibike-tripdata.csv.zip\n",
      "JC-201902-citibike-tripdata.csv.zip\n",
      "JC-201903-citibike-tripdata.csv.zip\n",
      "JC-201904-citibike-tripdata.csv.zip\n",
      "JC-201905-citibike-tripdata.csv.zip\n",
      "JC-201906-citibike-tripdata.csv.zip\n",
      "JC-201907-citibike-tripdata.csv.zip\n",
      "JC-201908-citibike-tripdata.csv.zip\n",
      "JC-201909-citibike-tripdata.csv.zip\n",
      "JC-201910-citibike-tripdata.csv.zip\n",
      "JC-201911-citibike-tripdata.csv.zip\n",
      "JC-201912-citibike-tripdata.csv.zip\n",
      "JC-202001-citibike-tripdata.csv.zip\n",
      "JC-202002-citibike-tripdata.csv.zip\n",
      "JC-202003-citibike-tripdata.csv.zip\n",
      "JC-202004-citibike-tripdata.csv.zip\n",
      "JC-202005-citibike-tripdata.csv.zip\n",
      "JC-202006-citibike-tripdata.csv.zip\n",
      "JC-202007-citibike-tripdata.csv.zip\n",
      "JC-202008-citibike-tripdata.csv.zip\n",
      "JC-202009-citibike-tripdata.csv.zip\n",
      "JC-202010-citibike-tripdata.csv.zip\n",
      "JC-202011-citibike-tripdata.csv.zip\n",
      "JC-202012-citibike-tripdata.csv.zip\n",
      "JC-202101-citibike-tripdata.csv.zip\n",
      "index.html\n"
     ]
    }
   ],
   "source": [
    "EndPoint=[]\n",
    "for element in soup2.find_all('key'):\n",
    "    print(element.text)\n",
    "    EndPoint.append(element.text)"
   ]
  },
  {
   "cell_type": "code",
   "execution_count": 93,
   "id": "sticky-duplicate",
   "metadata": {
    "scrolled": true
   },
   "outputs": [
    {
     "data": {
      "text/plain": [
       "['201306-citibike-tripdata.zip',\n",
       " '201307-201402-citibike-tripdata.zip',\n",
       " '201307-citibike-tripdata.zip',\n",
       " '201308-citibike-tripdata.zip',\n",
       " '201309-citibike-tripdata.zip',\n",
       " '201310-citibike-tripdata.zip',\n",
       " '201311-citibike-tripdata.zip',\n",
       " '201312-citibike-tripdata.zip',\n",
       " '201401-citibike-tripdata.zip',\n",
       " '201402-citibike-tripdata.zip',\n",
       " '201403-citibike-tripdata.zip',\n",
       " '201404-citibike-tripdata.zip',\n",
       " '201405-citibike-tripdata.zip',\n",
       " '201406-citibike-tripdata.zip',\n",
       " '201407-citibike-tripdata.zip',\n",
       " '201408-citibike-tripdata.zip',\n",
       " '201409-citibike-tripdata.zip',\n",
       " '201410-citibike-tripdata.zip',\n",
       " '201411-citibike-tripdata.zip',\n",
       " '201412-citibike-tripdata.zip',\n",
       " '201501-citibike-tripdata.zip',\n",
       " '201502-citibike-tripdata.zip',\n",
       " '201503-citibike-tripdata.zip',\n",
       " '201504-citibike-tripdata.zip',\n",
       " '201505-citibike-tripdata.zip',\n",
       " '201506-citibike-tripdata.zip',\n",
       " '201507-citibike-tripdata.zip',\n",
       " '201508-citibike-tripdata.zip',\n",
       " '201509-citibike-tripdata.zip',\n",
       " '201510-citibike-tripdata.zip',\n",
       " '201511-citibike-tripdata.zip',\n",
       " '201512-citibike-tripdata.zip',\n",
       " '201601-citibike-tripdata.zip',\n",
       " '201602-citibike-tripdata.zip',\n",
       " '201603-citibike-tripdata.zip',\n",
       " '201604-citibike-tripdata.zip',\n",
       " '201605-citibike-tripdata.zip',\n",
       " '201606-citibike-tripdata.zip',\n",
       " '201607-citibike-tripdata.zip',\n",
       " '201608-citibike-tripdata.zip',\n",
       " '201609-citibike-tripdata.zip',\n",
       " '201610-citibike-tripdata.zip',\n",
       " '201611-citibike-tripdata.zip',\n",
       " '201612-citibike-tripdata.zip',\n",
       " '201701-citibike-tripdata.csv.zip',\n",
       " '201702-citibike-tripdata.csv.zip',\n",
       " '201703-citibike-tripdata.csv.zip',\n",
       " '201704-citibike-tripdata.csv.zip',\n",
       " '201705-citibike-tripdata.csv.zip',\n",
       " '201706-citibike-tripdata.csv.zip',\n",
       " '201707-citibike-tripdata.csv.zip',\n",
       " '201708-citibike-tripdata.csv.zip',\n",
       " '201709-citibike-tripdata.csv.zip',\n",
       " '201710-citibike-tripdata.csv.zip',\n",
       " '201711-citibike-tripdata.csv.zip',\n",
       " '201712-citibike-tripdata.csv.zip',\n",
       " '201801-citibike-tripdata.csv.zip',\n",
       " '201802-citibike-tripdata.csv.zip',\n",
       " '201803-citibike-tripdata.csv.zip',\n",
       " '201804-citibike-tripdata.csv.zip',\n",
       " '201805-citibike-tripdata.csv.zip',\n",
       " '201806-citibike-tripdata.csv.zip',\n",
       " '201807-citibike-tripdata.csv.zip',\n",
       " '201808-citibike-tripdata.csv.zip',\n",
       " '201809-citibike-tripdata.csv.zip',\n",
       " '201810-citibike-tripdata.csv.zip',\n",
       " '201811-citibike-tripdata.csv.zip',\n",
       " '201812-citibike-tripdata.csv.zip',\n",
       " '201901-citibike-tripdata.csv.zip',\n",
       " '201902-citibike-tripdata.csv.zip',\n",
       " '201903-citibike-tripdata.csv.zip',\n",
       " '201904-citibike-tripdata.csv.zip',\n",
       " '201905-citibike-tripdata.csv.zip',\n",
       " '201906-citibike-tripdata.csv.zip',\n",
       " '201907-citibike-tripdata.csv.zip',\n",
       " '201908-citibike-tripdata.csv.zip',\n",
       " '201909-citibike-tripdata.csv.zip',\n",
       " '201910-citibike-tripdata.csv.zip',\n",
       " '201911-citibike-tripdata.csv.zip',\n",
       " '201912-citibike-tripdata.csv.zip',\n",
       " '202001-citibike-tripdata.csv.zip',\n",
       " '202002-citibike-tripdata.csv.zip',\n",
       " '202003-citibike-tripdata.csv.zip',\n",
       " '202004-citibike-tripdata.csv.zip',\n",
       " '202005-citibike-tripdata.csv.zip',\n",
       " '202006-citibike-tripdata.csv.zip',\n",
       " '202007-citibike-tripdata.csv.zip',\n",
       " '202008-citibike-tripdata.csv.zip',\n",
       " '202009-citibike-tripdata.csv.zip',\n",
       " '202010-citibike-tripdata.csv.zip',\n",
       " '202011-citibike-tripdata.csv.zip',\n",
       " '202012-citibike-tripdata.csv.zip',\n",
       " '202101-citibike-tripdata.csv.zip',\n",
       " 'JC-201509-citibike-tripdata.csv.zip',\n",
       " 'JC-201510-citibike-tripdata.csv.zip',\n",
       " 'JC-201511-citibike-tripdata.csv.zip',\n",
       " 'JC-201512-citibike-tripdata.csv.zip',\n",
       " 'JC-201601-citibike-tripdata.csv.zip',\n",
       " 'JC-201602-citibike-tripdata.csv.zip',\n",
       " 'JC-201603-citibike-tripdata.csv.zip',\n",
       " 'JC-201604-citibike-tripdata.csv.zip',\n",
       " 'JC-201605-citibike-tripdata.csv.zip',\n",
       " 'JC-201606-citibike-tripdata.csv.zip',\n",
       " 'JC-201607-citibike-tripdata.csv.zip',\n",
       " 'JC-201608-citibike-tripdata.csv.zip',\n",
       " 'JC-201609-citibike-tripdata.csv.zip',\n",
       " 'JC-201610-citibike-tripdata.csv.zip',\n",
       " 'JC-201611-citibike-tripdata.csv.zip',\n",
       " 'JC-201612-citibike-tripdata.csv.zip',\n",
       " 'JC-201701-citibike-tripdata.csv.zip',\n",
       " 'JC-201702-citibike-tripdata.csv.zip',\n",
       " 'JC-201703-citibike-tripdata.csv.zip',\n",
       " 'JC-201704-citibike-tripdata.csv.zip',\n",
       " 'JC-201705-citibike-tripdata.csv.zip',\n",
       " 'JC-201706-citibike-tripdata.csv.zip',\n",
       " 'JC-201707-citibike-tripdata.csv.zip',\n",
       " 'JC-201708 citibike-tripdata.csv.zip',\n",
       " 'JC-201709-citibike-tripdata.csv.zip',\n",
       " 'JC-201710-citibike-tripdata.csv.zip',\n",
       " 'JC-201711-citibike-tripdata.csv.zip',\n",
       " 'JC-201712-citibike-tripdata.csv.zip',\n",
       " 'JC-201801-citibike-tripdata.csv.zip',\n",
       " 'JC-201802-citibike-tripdata.csv.zip',\n",
       " 'JC-201803-citibike-tripdata.csv.zip',\n",
       " 'JC-201804-citibike-tripdata.csv.zip',\n",
       " 'JC-201805-citibike-tripdata.csv.zip',\n",
       " 'JC-201806-citibike-tripdata.csv.zip',\n",
       " 'JC-201807-citibike-tripdata.csv.zip',\n",
       " 'JC-201808-citibike-tripdata.csv.zip',\n",
       " 'JC-201809-citibike-tripdata.csv.zip',\n",
       " 'JC-201810-citibike-tripdata.csv.zip',\n",
       " 'JC-201811-citibike-tripdata.csv.zip',\n",
       " 'JC-201812-citibike-tripdata.csv.zip',\n",
       " 'JC-201901-citibike-tripdata.csv.zip',\n",
       " 'JC-201902-citibike-tripdata.csv.zip',\n",
       " 'JC-201903-citibike-tripdata.csv.zip',\n",
       " 'JC-201904-citibike-tripdata.csv.zip',\n",
       " 'JC-201905-citibike-tripdata.csv.zip',\n",
       " 'JC-201906-citibike-tripdata.csv.zip',\n",
       " 'JC-201907-citibike-tripdata.csv.zip',\n",
       " 'JC-201908-citibike-tripdata.csv.zip',\n",
       " 'JC-201909-citibike-tripdata.csv.zip',\n",
       " 'JC-201910-citibike-tripdata.csv.zip',\n",
       " 'JC-201911-citibike-tripdata.csv.zip',\n",
       " 'JC-201912-citibike-tripdata.csv.zip',\n",
       " 'JC-202001-citibike-tripdata.csv.zip',\n",
       " 'JC-202002-citibike-tripdata.csv.zip',\n",
       " 'JC-202003-citibike-tripdata.csv.zip',\n",
       " 'JC-202004-citibike-tripdata.csv.zip',\n",
       " 'JC-202005-citibike-tripdata.csv.zip',\n",
       " 'JC-202006-citibike-tripdata.csv.zip',\n",
       " 'JC-202007-citibike-tripdata.csv.zip',\n",
       " 'JC-202008-citibike-tripdata.csv.zip',\n",
       " 'JC-202009-citibike-tripdata.csv.zip',\n",
       " 'JC-202010-citibike-tripdata.csv.zip',\n",
       " 'JC-202011-citibike-tripdata.csv.zip',\n",
       " 'JC-202012-citibike-tripdata.csv.zip',\n",
       " 'JC-202101-citibike-tripdata.csv.zip',\n",
       " 'index.html']"
      ]
     },
     "execution_count": 93,
     "metadata": {},
     "output_type": "execute_result"
    }
   ],
   "source": [
    "EndPoint"
   ]
  },
  {
   "cell_type": "code",
   "execution_count": 106,
   "id": "subject-sewing",
   "metadata": {
    "scrolled": true
   },
   "outputs": [
    {
     "data": {
      "text/plain": [
       "159"
      ]
     },
     "execution_count": 106,
     "metadata": {},
     "output_type": "execute_result"
    }
   ],
   "source": [
    "len(EndPoint)"
   ]
  },
  {
   "cell_type": "code",
   "execution_count": 94,
   "id": "spoken-commissioner",
   "metadata": {},
   "outputs": [],
   "source": [
    "urlZipFile='https://s3.amazonaws.com/tripdata/'+EndPoint[0]"
   ]
  },
  {
   "cell_type": "code",
   "execution_count": 95,
   "id": "amino-thirty",
   "metadata": {},
   "outputs": [
    {
     "data": {
      "text/plain": [
       "'https://s3.amazonaws.com/tripdata/201306-citibike-tripdata.zip'"
      ]
     },
     "execution_count": 95,
     "metadata": {},
     "output_type": "execute_result"
    }
   ],
   "source": [
    "urlZipFile"
   ]
  },
  {
   "cell_type": "markdown",
   "id": "touched-fifty",
   "metadata": {},
   "source": [
    "## Use of module zipfile and urlib to download files"
   ]
  },
  {
   "cell_type": "code",
   "execution_count": 96,
   "id": "described-surgery",
   "metadata": {},
   "outputs": [],
   "source": [
    "ZipFileRequest=requests.get(urlZipFile)"
   ]
  },
  {
   "cell_type": "code",
   "execution_count": 105,
   "id": "premium-metadata",
   "metadata": {},
   "outputs": [
    {
     "data": {
      "text/plain": [
       "range(0, 158)"
      ]
     },
     "execution_count": 105,
     "metadata": {},
     "output_type": "execute_result"
    }
   ],
   "source": [
    "range(len(EndPoint)-1) #Index.html is the last element"
   ]
  },
  {
   "cell_type": "markdown",
   "id": "assisted-petersburg",
   "metadata": {},
   "source": [
    "### Modify to download only the files to use. In this case the download was for all disponible data."
   ]
  },
  {
   "cell_type": "code",
   "execution_count": 113,
   "id": "desirable-syndrome",
   "metadata": {},
   "outputs": [
    {
     "name": "stdout",
     "output_type": "stream",
     "text": [
      "0:ok\n",
      "1:ok\n",
      "2:ok\n",
      "3:ok\n",
      "4:ok\n",
      "5:ok\n",
      "6:ok\n",
      "7:ok\n",
      "8:ok\n",
      "9:ok\n",
      "10:ok\n",
      "11:ok\n",
      "12:ok\n",
      "13:ok\n",
      "14:ok\n",
      "15:ok\n",
      "16:ok\n",
      "17:ok\n",
      "18:ok\n",
      "19:ok\n",
      "20:ok\n",
      "21:ok\n",
      "22:ok\n",
      "23:ok\n",
      "24:ok\n",
      "25:ok\n",
      "26:ok\n",
      "27:ok\n",
      "28:ok\n",
      "29:ok\n",
      "30:ok\n",
      "31:ok\n",
      "32:ok\n",
      "33:ok\n",
      "34:ok\n",
      "35:ok\n",
      "36:ok\n",
      "37:ok\n",
      "38:ok\n",
      "39:ok\n",
      "40:ok\n",
      "41:ok\n",
      "42:ok\n",
      "43:ok\n",
      "44:ok\n",
      "45:ok\n",
      "46:ok\n",
      "47:ok\n",
      "48:ok\n",
      "49:ok\n",
      "50:ok\n",
      "51:ok\n",
      "52:ok\n",
      "53:ok\n",
      "54:ok\n",
      "55:ok\n",
      "56:ok\n",
      "57:ok\n",
      "58:ok\n",
      "59:ok\n",
      "60:ok\n",
      "61:ok\n",
      "62:ok\n",
      "63:ok\n",
      "64:ok\n",
      "65:ok\n",
      "66:ok\n",
      "67:ok\n",
      "68:ok\n",
      "69:ok\n",
      "70:ok\n",
      "71:ok\n",
      "72:ok\n",
      "73:ok\n",
      "74:ok\n",
      "75:ok\n",
      "76:ok\n",
      "77:ok\n",
      "78:ok\n",
      "79:ok\n",
      "80:ok\n",
      "81:ok\n",
      "82:ok\n",
      "83:ok\n",
      "84:ok\n",
      "85:ok\n",
      "86:ok\n",
      "87:ok\n",
      "88:ok\n",
      "89:ok\n",
      "90:ok\n",
      "91:ok\n",
      "92:ok\n",
      "93:ok\n",
      "94:ok\n",
      "95:ok\n",
      "96:ok\n",
      "97:ok\n",
      "98:ok\n",
      "99:ok\n",
      "100:ok\n",
      "101:ok\n",
      "102:ok\n",
      "103:ok\n",
      "104:ok\n",
      "105:ok\n",
      "106:ok\n",
      "107:ok\n",
      "108:ok\n",
      "109:ok\n",
      "110:ok\n",
      "111:ok\n",
      "112:ok\n",
      "113:ok\n",
      "114:ok\n",
      "115:ok\n",
      "116: checkout!!!!: JC-201708 citibike-tripdata.csv.zip\n",
      "117:ok\n",
      "118:ok\n",
      "119:ok\n",
      "120:ok\n",
      "121:ok\n",
      "122:ok\n",
      "123:ok\n",
      "124:ok\n",
      "125:ok\n",
      "126:ok\n",
      "127:ok\n",
      "128:ok\n",
      "129:ok\n",
      "130:ok\n",
      "131:ok\n",
      "132:ok\n",
      "133:ok\n",
      "134:ok\n",
      "135:ok\n",
      "136:ok\n",
      "137:ok\n",
      "138:ok\n",
      "139:ok\n",
      "140:ok\n",
      "141:ok\n",
      "142:ok\n",
      "143:ok\n",
      "144:ok\n",
      "145:ok\n",
      "146:ok\n",
      "147:ok\n",
      "148:ok\n",
      "149:ok\n",
      "150:ok\n",
      "151:ok\n",
      "152:ok\n",
      "153:ok\n",
      "154:ok\n",
      "155:ok\n",
      "156:ok\n",
      "157:ok\n"
     ]
    }
   ],
   "source": [
    "pathSave='your path to save'\n",
    "ErrosZip=[]\n",
    "for endpoint in range(len(EndPoint)-1):\n",
    "    try:\n",
    "        urlZipFile='https://s3.amazonaws.com/tripdata/'+EndPoint[endpoint]\n",
    "        with urlopen(urlZipFile) as zipresp:\n",
    "            with ZipFile(BytesIO(zipresp.read())) as zfile:\n",
    "                zfile.extractall(pathSave)\n",
    "                print(f'{endpoint}:ok')\n",
    "    except:\n",
    "        ErrosZip.append(EndPoint[endpoint])\n",
    "        print(f'{endpoint}: checkout!!!!: {EndPoint[endpoint]}')\n",
    "    "
   ]
  },
  {
   "cell_type": "code",
   "execution_count": 114,
   "id": "visible-digest",
   "metadata": {},
   "outputs": [
    {
     "data": {
      "text/plain": [
       "['JC-201708 citibike-tripdata.csv.zip']"
      ]
     },
     "execution_count": 114,
     "metadata": {},
     "output_type": "execute_result"
    }
   ],
   "source": [
    "ErrosZip"
   ]
  },
  {
   "cell_type": "code",
   "execution_count": 115,
   "id": "numerical-toddler",
   "metadata": {},
   "outputs": [
    {
     "data": {
      "text/plain": [
       "1"
      ]
     },
     "execution_count": 115,
     "metadata": {},
     "output_type": "execute_result"
    }
   ],
   "source": [
    "len(ErrosZip)"
   ]
  },
  {
   "cell_type": "code",
   "execution_count": 117,
   "id": "following-operations",
   "metadata": {},
   "outputs": [
    {
     "name": "stdout",
     "output_type": "stream",
     "text": [
      "0: checkout!!!!: JC-201708 citibike-tripdata.csv.zip\n"
     ]
    }
   ],
   "source": []
  },
  {
   "cell_type": "code",
   "execution_count": 118,
   "id": "constitutional-address",
   "metadata": {},
   "outputs": [
    {
     "name": "stdout",
     "output_type": "stream",
     "text": [
      "0: checkout!!!!: JC-201708 citibike-tripdata.csv.zip\n"
     ]
    }
   ],
   "source": [
    "try:\n",
    "    urlZipFile='https://s3.amazonaws.com/tripdata/'+ErrosZip[endpoint]\n",
    "    with urlopen(urlZipFile) as zipresp:\n",
    "        with ZipFile(BytesIO(zipresp.read())) as zfile:\n",
    "            zfile.extractall(pathSave)\n",
    "            print(f'{endpoint}:ok')\n",
    "except:\n",
    "    print(f'{endpoint}: checkout!!!!: {ErrosZip[endpoint]}')"
   ]
  },
  {
   "cell_type": "code",
   "execution_count": 119,
   "id": "viral-beaver",
   "metadata": {
    "scrolled": true
   },
   "outputs": [
    {
     "ename": "InvalidURL",
     "evalue": "URL can't contain control characters. '/tripdata/JC-201708 citibike-tripdata.csv.zip' (found at least ' ')",
     "output_type": "error",
     "traceback": [
      "\u001b[1;31m---------------------------------------------------------------------------\u001b[0m",
      "\u001b[1;31mInvalidURL\u001b[0m                                Traceback (most recent call last)",
      "\u001b[1;32m<ipython-input-119-830b8f6b3fac>\u001b[0m in \u001b[0;36m<module>\u001b[1;34m\u001b[0m\n\u001b[0;32m      1\u001b[0m \u001b[0murlZipFileErr\u001b[0m\u001b[1;33m=\u001b[0m\u001b[1;34m'https://s3.amazonaws.com/tripdata/'\u001b[0m\u001b[1;33m+\u001b[0m\u001b[0mErrosZip\u001b[0m\u001b[1;33m[\u001b[0m\u001b[1;36m0\u001b[0m\u001b[1;33m]\u001b[0m\u001b[1;33m\u001b[0m\u001b[1;33m\u001b[0m\u001b[0m\n\u001b[1;32m----> 2\u001b[1;33m \u001b[1;32mwith\u001b[0m \u001b[0murlopen\u001b[0m\u001b[1;33m(\u001b[0m\u001b[0murlZipFileErr\u001b[0m\u001b[1;33m)\u001b[0m \u001b[1;32mas\u001b[0m \u001b[0mzipresp\u001b[0m\u001b[1;33m:\u001b[0m\u001b[1;33m\u001b[0m\u001b[1;33m\u001b[0m\u001b[0m\n\u001b[0m\u001b[0;32m      3\u001b[0m     \u001b[1;32mwith\u001b[0m \u001b[0mZipFile\u001b[0m\u001b[1;33m(\u001b[0m\u001b[0mBytesIO\u001b[0m\u001b[1;33m(\u001b[0m\u001b[0mzipresp\u001b[0m\u001b[1;33m.\u001b[0m\u001b[0mread\u001b[0m\u001b[1;33m(\u001b[0m\u001b[1;33m)\u001b[0m\u001b[1;33m)\u001b[0m\u001b[1;33m)\u001b[0m \u001b[1;32mas\u001b[0m \u001b[0mzfile\u001b[0m\u001b[1;33m:\u001b[0m\u001b[1;33m\u001b[0m\u001b[1;33m\u001b[0m\u001b[0m\n\u001b[0;32m      4\u001b[0m         \u001b[0mzfile\u001b[0m\u001b[1;33m.\u001b[0m\u001b[0mextractall\u001b[0m\u001b[1;33m(\u001b[0m\u001b[0mpathSave\u001b[0m\u001b[1;33m)\u001b[0m\u001b[1;33m\u001b[0m\u001b[1;33m\u001b[0m\u001b[0m\n\u001b[0;32m      5\u001b[0m         \u001b[0mprint\u001b[0m\u001b[1;33m(\u001b[0m\u001b[1;34mf'{endpoint}:ok'\u001b[0m\u001b[1;33m)\u001b[0m\u001b[1;33m\u001b[0m\u001b[1;33m\u001b[0m\u001b[0m\n",
      "\u001b[1;32m~\\anaconda3\\envs\\INEGI_maps\\lib\\urllib\\request.py\u001b[0m in \u001b[0;36murlopen\u001b[1;34m(url, data, timeout, cafile, capath, cadefault, context)\u001b[0m\n\u001b[0;32m    212\u001b[0m     \u001b[1;32melse\u001b[0m\u001b[1;33m:\u001b[0m\u001b[1;33m\u001b[0m\u001b[1;33m\u001b[0m\u001b[0m\n\u001b[0;32m    213\u001b[0m         \u001b[0mopener\u001b[0m \u001b[1;33m=\u001b[0m \u001b[0m_opener\u001b[0m\u001b[1;33m\u001b[0m\u001b[1;33m\u001b[0m\u001b[0m\n\u001b[1;32m--> 214\u001b[1;33m     \u001b[1;32mreturn\u001b[0m \u001b[0mopener\u001b[0m\u001b[1;33m.\u001b[0m\u001b[0mopen\u001b[0m\u001b[1;33m(\u001b[0m\u001b[0murl\u001b[0m\u001b[1;33m,\u001b[0m \u001b[0mdata\u001b[0m\u001b[1;33m,\u001b[0m \u001b[0mtimeout\u001b[0m\u001b[1;33m)\u001b[0m\u001b[1;33m\u001b[0m\u001b[1;33m\u001b[0m\u001b[0m\n\u001b[0m\u001b[0;32m    215\u001b[0m \u001b[1;33m\u001b[0m\u001b[0m\n\u001b[0;32m    216\u001b[0m \u001b[1;32mdef\u001b[0m \u001b[0minstall_opener\u001b[0m\u001b[1;33m(\u001b[0m\u001b[0mopener\u001b[0m\u001b[1;33m)\u001b[0m\u001b[1;33m:\u001b[0m\u001b[1;33m\u001b[0m\u001b[1;33m\u001b[0m\u001b[0m\n",
      "\u001b[1;32m~\\anaconda3\\envs\\INEGI_maps\\lib\\urllib\\request.py\u001b[0m in \u001b[0;36mopen\u001b[1;34m(self, fullurl, data, timeout)\u001b[0m\n\u001b[0;32m    515\u001b[0m \u001b[1;33m\u001b[0m\u001b[0m\n\u001b[0;32m    516\u001b[0m         \u001b[0msys\u001b[0m\u001b[1;33m.\u001b[0m\u001b[0maudit\u001b[0m\u001b[1;33m(\u001b[0m\u001b[1;34m'urllib.Request'\u001b[0m\u001b[1;33m,\u001b[0m \u001b[0mreq\u001b[0m\u001b[1;33m.\u001b[0m\u001b[0mfull_url\u001b[0m\u001b[1;33m,\u001b[0m \u001b[0mreq\u001b[0m\u001b[1;33m.\u001b[0m\u001b[0mdata\u001b[0m\u001b[1;33m,\u001b[0m \u001b[0mreq\u001b[0m\u001b[1;33m.\u001b[0m\u001b[0mheaders\u001b[0m\u001b[1;33m,\u001b[0m \u001b[0mreq\u001b[0m\u001b[1;33m.\u001b[0m\u001b[0mget_method\u001b[0m\u001b[1;33m(\u001b[0m\u001b[1;33m)\u001b[0m\u001b[1;33m)\u001b[0m\u001b[1;33m\u001b[0m\u001b[1;33m\u001b[0m\u001b[0m\n\u001b[1;32m--> 517\u001b[1;33m         \u001b[0mresponse\u001b[0m \u001b[1;33m=\u001b[0m \u001b[0mself\u001b[0m\u001b[1;33m.\u001b[0m\u001b[0m_open\u001b[0m\u001b[1;33m(\u001b[0m\u001b[0mreq\u001b[0m\u001b[1;33m,\u001b[0m \u001b[0mdata\u001b[0m\u001b[1;33m)\u001b[0m\u001b[1;33m\u001b[0m\u001b[1;33m\u001b[0m\u001b[0m\n\u001b[0m\u001b[0;32m    518\u001b[0m \u001b[1;33m\u001b[0m\u001b[0m\n\u001b[0;32m    519\u001b[0m         \u001b[1;31m# post-process response\u001b[0m\u001b[1;33m\u001b[0m\u001b[1;33m\u001b[0m\u001b[1;33m\u001b[0m\u001b[0m\n",
      "\u001b[1;32m~\\anaconda3\\envs\\INEGI_maps\\lib\\urllib\\request.py\u001b[0m in \u001b[0;36m_open\u001b[1;34m(self, req, data)\u001b[0m\n\u001b[0;32m    532\u001b[0m \u001b[1;33m\u001b[0m\u001b[0m\n\u001b[0;32m    533\u001b[0m         \u001b[0mprotocol\u001b[0m \u001b[1;33m=\u001b[0m \u001b[0mreq\u001b[0m\u001b[1;33m.\u001b[0m\u001b[0mtype\u001b[0m\u001b[1;33m\u001b[0m\u001b[1;33m\u001b[0m\u001b[0m\n\u001b[1;32m--> 534\u001b[1;33m         result = self._call_chain(self.handle_open, protocol, protocol +\n\u001b[0m\u001b[0;32m    535\u001b[0m                                   '_open', req)\n\u001b[0;32m    536\u001b[0m         \u001b[1;32mif\u001b[0m \u001b[0mresult\u001b[0m\u001b[1;33m:\u001b[0m\u001b[1;33m\u001b[0m\u001b[1;33m\u001b[0m\u001b[0m\n",
      "\u001b[1;32m~\\anaconda3\\envs\\INEGI_maps\\lib\\urllib\\request.py\u001b[0m in \u001b[0;36m_call_chain\u001b[1;34m(self, chain, kind, meth_name, *args)\u001b[0m\n\u001b[0;32m    492\u001b[0m         \u001b[1;32mfor\u001b[0m \u001b[0mhandler\u001b[0m \u001b[1;32min\u001b[0m \u001b[0mhandlers\u001b[0m\u001b[1;33m:\u001b[0m\u001b[1;33m\u001b[0m\u001b[1;33m\u001b[0m\u001b[0m\n\u001b[0;32m    493\u001b[0m             \u001b[0mfunc\u001b[0m \u001b[1;33m=\u001b[0m \u001b[0mgetattr\u001b[0m\u001b[1;33m(\u001b[0m\u001b[0mhandler\u001b[0m\u001b[1;33m,\u001b[0m \u001b[0mmeth_name\u001b[0m\u001b[1;33m)\u001b[0m\u001b[1;33m\u001b[0m\u001b[1;33m\u001b[0m\u001b[0m\n\u001b[1;32m--> 494\u001b[1;33m             \u001b[0mresult\u001b[0m \u001b[1;33m=\u001b[0m \u001b[0mfunc\u001b[0m\u001b[1;33m(\u001b[0m\u001b[1;33m*\u001b[0m\u001b[0margs\u001b[0m\u001b[1;33m)\u001b[0m\u001b[1;33m\u001b[0m\u001b[1;33m\u001b[0m\u001b[0m\n\u001b[0m\u001b[0;32m    495\u001b[0m             \u001b[1;32mif\u001b[0m \u001b[0mresult\u001b[0m \u001b[1;32mis\u001b[0m \u001b[1;32mnot\u001b[0m \u001b[1;32mNone\u001b[0m\u001b[1;33m:\u001b[0m\u001b[1;33m\u001b[0m\u001b[1;33m\u001b[0m\u001b[0m\n\u001b[0;32m    496\u001b[0m                 \u001b[1;32mreturn\u001b[0m \u001b[0mresult\u001b[0m\u001b[1;33m\u001b[0m\u001b[1;33m\u001b[0m\u001b[0m\n",
      "\u001b[1;32m~\\anaconda3\\envs\\INEGI_maps\\lib\\urllib\\request.py\u001b[0m in \u001b[0;36mhttps_open\u001b[1;34m(self, req)\u001b[0m\n\u001b[0;32m   1383\u001b[0m \u001b[1;33m\u001b[0m\u001b[0m\n\u001b[0;32m   1384\u001b[0m         \u001b[1;32mdef\u001b[0m \u001b[0mhttps_open\u001b[0m\u001b[1;33m(\u001b[0m\u001b[0mself\u001b[0m\u001b[1;33m,\u001b[0m \u001b[0mreq\u001b[0m\u001b[1;33m)\u001b[0m\u001b[1;33m:\u001b[0m\u001b[1;33m\u001b[0m\u001b[1;33m\u001b[0m\u001b[0m\n\u001b[1;32m-> 1385\u001b[1;33m             return self.do_open(http.client.HTTPSConnection, req,\n\u001b[0m\u001b[0;32m   1386\u001b[0m                 context=self._context, check_hostname=self._check_hostname)\n\u001b[0;32m   1387\u001b[0m \u001b[1;33m\u001b[0m\u001b[0m\n",
      "\u001b[1;32m~\\anaconda3\\envs\\INEGI_maps\\lib\\urllib\\request.py\u001b[0m in \u001b[0;36mdo_open\u001b[1;34m(self, http_class, req, **http_conn_args)\u001b[0m\n\u001b[0;32m   1340\u001b[0m         \u001b[1;32mtry\u001b[0m\u001b[1;33m:\u001b[0m\u001b[1;33m\u001b[0m\u001b[1;33m\u001b[0m\u001b[0m\n\u001b[0;32m   1341\u001b[0m             \u001b[1;32mtry\u001b[0m\u001b[1;33m:\u001b[0m\u001b[1;33m\u001b[0m\u001b[1;33m\u001b[0m\u001b[0m\n\u001b[1;32m-> 1342\u001b[1;33m                 h.request(req.get_method(), req.selector, req.data, headers,\n\u001b[0m\u001b[0;32m   1343\u001b[0m                           encode_chunked=req.has_header('Transfer-encoding'))\n\u001b[0;32m   1344\u001b[0m             \u001b[1;32mexcept\u001b[0m \u001b[0mOSError\u001b[0m \u001b[1;32mas\u001b[0m \u001b[0merr\u001b[0m\u001b[1;33m:\u001b[0m \u001b[1;31m# timeout error\u001b[0m\u001b[1;33m\u001b[0m\u001b[1;33m\u001b[0m\u001b[0m\n",
      "\u001b[1;32m~\\anaconda3\\envs\\INEGI_maps\\lib\\http\\client.py\u001b[0m in \u001b[0;36mrequest\u001b[1;34m(self, method, url, body, headers, encode_chunked)\u001b[0m\n\u001b[0;32m   1253\u001b[0m                 encode_chunked=False):\n\u001b[0;32m   1254\u001b[0m         \u001b[1;34m\"\"\"Send a complete request to the server.\"\"\"\u001b[0m\u001b[1;33m\u001b[0m\u001b[1;33m\u001b[0m\u001b[0m\n\u001b[1;32m-> 1255\u001b[1;33m         \u001b[0mself\u001b[0m\u001b[1;33m.\u001b[0m\u001b[0m_send_request\u001b[0m\u001b[1;33m(\u001b[0m\u001b[0mmethod\u001b[0m\u001b[1;33m,\u001b[0m \u001b[0murl\u001b[0m\u001b[1;33m,\u001b[0m \u001b[0mbody\u001b[0m\u001b[1;33m,\u001b[0m \u001b[0mheaders\u001b[0m\u001b[1;33m,\u001b[0m \u001b[0mencode_chunked\u001b[0m\u001b[1;33m)\u001b[0m\u001b[1;33m\u001b[0m\u001b[1;33m\u001b[0m\u001b[0m\n\u001b[0m\u001b[0;32m   1256\u001b[0m \u001b[1;33m\u001b[0m\u001b[0m\n\u001b[0;32m   1257\u001b[0m     \u001b[1;32mdef\u001b[0m \u001b[0m_send_request\u001b[0m\u001b[1;33m(\u001b[0m\u001b[0mself\u001b[0m\u001b[1;33m,\u001b[0m \u001b[0mmethod\u001b[0m\u001b[1;33m,\u001b[0m \u001b[0murl\u001b[0m\u001b[1;33m,\u001b[0m \u001b[0mbody\u001b[0m\u001b[1;33m,\u001b[0m \u001b[0mheaders\u001b[0m\u001b[1;33m,\u001b[0m \u001b[0mencode_chunked\u001b[0m\u001b[1;33m)\u001b[0m\u001b[1;33m:\u001b[0m\u001b[1;33m\u001b[0m\u001b[1;33m\u001b[0m\u001b[0m\n",
      "\u001b[1;32m~\\anaconda3\\envs\\INEGI_maps\\lib\\http\\client.py\u001b[0m in \u001b[0;36m_send_request\u001b[1;34m(self, method, url, body, headers, encode_chunked)\u001b[0m\n\u001b[0;32m   1264\u001b[0m             \u001b[0mskips\u001b[0m\u001b[1;33m[\u001b[0m\u001b[1;34m'skip_accept_encoding'\u001b[0m\u001b[1;33m]\u001b[0m \u001b[1;33m=\u001b[0m \u001b[1;36m1\u001b[0m\u001b[1;33m\u001b[0m\u001b[1;33m\u001b[0m\u001b[0m\n\u001b[0;32m   1265\u001b[0m \u001b[1;33m\u001b[0m\u001b[0m\n\u001b[1;32m-> 1266\u001b[1;33m         \u001b[0mself\u001b[0m\u001b[1;33m.\u001b[0m\u001b[0mputrequest\u001b[0m\u001b[1;33m(\u001b[0m\u001b[0mmethod\u001b[0m\u001b[1;33m,\u001b[0m \u001b[0murl\u001b[0m\u001b[1;33m,\u001b[0m \u001b[1;33m**\u001b[0m\u001b[0mskips\u001b[0m\u001b[1;33m)\u001b[0m\u001b[1;33m\u001b[0m\u001b[1;33m\u001b[0m\u001b[0m\n\u001b[0m\u001b[0;32m   1267\u001b[0m \u001b[1;33m\u001b[0m\u001b[0m\n\u001b[0;32m   1268\u001b[0m         \u001b[1;31m# chunked encoding will happen if HTTP/1.1 is used and either\u001b[0m\u001b[1;33m\u001b[0m\u001b[1;33m\u001b[0m\u001b[1;33m\u001b[0m\u001b[0m\n",
      "\u001b[1;32m~\\anaconda3\\envs\\INEGI_maps\\lib\\http\\client.py\u001b[0m in \u001b[0;36mputrequest\u001b[1;34m(self, method, url, skip_host, skip_accept_encoding)\u001b[0m\n\u001b[0;32m   1098\u001b[0m \u001b[1;33m\u001b[0m\u001b[0m\n\u001b[0;32m   1099\u001b[0m         \u001b[0murl\u001b[0m \u001b[1;33m=\u001b[0m \u001b[0murl\u001b[0m \u001b[1;32mor\u001b[0m \u001b[1;34m'/'\u001b[0m\u001b[1;33m\u001b[0m\u001b[1;33m\u001b[0m\u001b[0m\n\u001b[1;32m-> 1100\u001b[1;33m         \u001b[0mself\u001b[0m\u001b[1;33m.\u001b[0m\u001b[0m_validate_path\u001b[0m\u001b[1;33m(\u001b[0m\u001b[0murl\u001b[0m\u001b[1;33m)\u001b[0m\u001b[1;33m\u001b[0m\u001b[1;33m\u001b[0m\u001b[0m\n\u001b[0m\u001b[0;32m   1101\u001b[0m \u001b[1;33m\u001b[0m\u001b[0m\n\u001b[0;32m   1102\u001b[0m         \u001b[0mrequest\u001b[0m \u001b[1;33m=\u001b[0m \u001b[1;34m'%s %s %s'\u001b[0m \u001b[1;33m%\u001b[0m \u001b[1;33m(\u001b[0m\u001b[0mmethod\u001b[0m\u001b[1;33m,\u001b[0m \u001b[0murl\u001b[0m\u001b[1;33m,\u001b[0m \u001b[0mself\u001b[0m\u001b[1;33m.\u001b[0m\u001b[0m_http_vsn_str\u001b[0m\u001b[1;33m)\u001b[0m\u001b[1;33m\u001b[0m\u001b[1;33m\u001b[0m\u001b[0m\n",
      "\u001b[1;32m~\\anaconda3\\envs\\INEGI_maps\\lib\\http\\client.py\u001b[0m in \u001b[0;36m_validate_path\u001b[1;34m(self, url)\u001b[0m\n\u001b[0;32m   1198\u001b[0m         \u001b[0mmatch\u001b[0m \u001b[1;33m=\u001b[0m \u001b[0m_contains_disallowed_url_pchar_re\u001b[0m\u001b[1;33m.\u001b[0m\u001b[0msearch\u001b[0m\u001b[1;33m(\u001b[0m\u001b[0murl\u001b[0m\u001b[1;33m)\u001b[0m\u001b[1;33m\u001b[0m\u001b[1;33m\u001b[0m\u001b[0m\n\u001b[0;32m   1199\u001b[0m         \u001b[1;32mif\u001b[0m \u001b[0mmatch\u001b[0m\u001b[1;33m:\u001b[0m\u001b[1;33m\u001b[0m\u001b[1;33m\u001b[0m\u001b[0m\n\u001b[1;32m-> 1200\u001b[1;33m             raise InvalidURL(f\"URL can't contain control characters. {url!r} \"\n\u001b[0m\u001b[0;32m   1201\u001b[0m                              f\"(found at least {match.group()!r})\")\n\u001b[0;32m   1202\u001b[0m \u001b[1;33m\u001b[0m\u001b[0m\n",
      "\u001b[1;31mInvalidURL\u001b[0m: URL can't contain control characters. '/tripdata/JC-201708 citibike-tripdata.csv.zip' (found at least ' ')"
     ]
    }
   ],
   "source": [
    "urlZipFileErr='https://s3.amazonaws.com/tripdata/'+ErrosZip[0]\n",
    "with urlopen(urlZipFileErr) as zipresp:\n",
    "    with ZipFile(BytesIO(zipresp.read())) as zfile:\n",
    "        zfile.extractall(pathSave)\n",
    "        print(f'{endpoint}:ok') #This case the download was manual"
   ]
  },
  {
   "cell_type": "markdown",
   "id": "transparent-proposal",
   "metadata": {},
   "source": []
  }
 ],
 "metadata": {
  "kernelspec": {
   "display_name": "Python 3",
   "language": "python",
   "name": "python3"
  },
  "language_info": {
   "codemirror_mode": {
    "name": "ipython",
    "version": 3
   },
   "file_extension": ".py",
   "mimetype": "text/x-python",
   "name": "python",
   "nbconvert_exporter": "python",
   "pygments_lexer": "ipython3",
   "version": "3.9.1"
  }
 },
 "nbformat": 4,
 "nbformat_minor": 5
}
